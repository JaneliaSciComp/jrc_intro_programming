{
 "cells": [
  {
   "cell_type": "markdown",
   "metadata": {},
   "source": [
    "# Plotting with matplotlib"
   ]
  },
  {
   "cell_type": "markdown",
   "metadata": {},
   "source": [
    "## 1. Getting Started"
   ]
  },
  {
   "cell_type": "markdown",
   "metadata": {},
   "source": [
    "### 1.1 What is matplotlib?\n",
    "\n",
    "Matplotlib is the most popular and mature library for plotting data using\n",
    "Python. It has all of the functionality you would expect, including the ability to control\n",
    "the formatting of plots and figures at a very fine level.\n",
    "\n",
    "The official matplotlib documentation is at http://matplotlib.org/  \n",
    "The matplotlib gallery is at http://matplotlib.org/gallery.html"
   ]
  },
  {
   "cell_type": "markdown",
   "metadata": {},
   "source": [
    "### 1.2 Importing matplotlib\n",
    "\n",
    "Matplotlib is often used through 'pyplot', which provides a high-level interface for\n",
    "plotting."
   ]
  },
  {
   "cell_type": "code",
   "execution_count": null,
   "metadata": {
    "collapsed": false
   },
   "outputs": [],
   "source": [
    "# In IPython or the IPython notebook, it's easiest to use the pylab magic, which\n",
    "# imports matplotlib, numpy, and scipy.\n",
    "\n",
    "# The inline flag means that images will be shown here in the notebooks, rather\n",
    "# than in pop-up windows.\n",
    "\n",
    "%pylab inline\n",
    "\n",
    "# If you are using 'regular' Python, however, you'll want the following. You'll\n",
    "# need to also separately import numpy and any other packages that you might need.\n",
    "\n",
    "#import numpy as np\n",
    "#import matplotlib.pyplot as plt"
   ]
  },
  {
   "cell_type": "markdown",
   "metadata": {},
   "source": [
    "## 2. Creating Figures\n",
    "\n",
    "There are two major challenges with creating figures. First is understanding the\n",
    "syntax to actually make the basic plot appear. Second is formatting the basic plot to look\n",
    "exactly how you would like it to look. In general, the formatting will probably take you\n",
    "longer...\n",
    "\n",
    "Within pyplot (currently imported as 'plt'), there are two basic ways to go about making\n",
    "plots - using the Matlab-like clone, and using the object-oriented approach. The latter\n",
    "provides better control over plot features, while only requiring slightly more typing. It's\n",
    "easy to quickly outgrow the Matlab clone, so we'll go right to the object-oriented syntax."
   ]
  },
  {
   "cell_type": "markdown",
   "metadata": {},
   "source": [
    "### 2.1 A first plot\n",
    "\n",
    "In simple matplotlib plotting, there are two concepts to distinguish:\n",
    "\n",
    "- __Figure__ - the entire figure, like what you might see in a journal, including all\n",
    "subplots, axes, lines, labels, etc. The whole enchilada.  \n",
    "  \n",
    "- __Subplot/Axes__ - one of the sub-sections of the figure, labeled (a), (b), etc. in\n",
    "articles. Each subplot will contain one Axes object, which is the container where all of the\n",
    "useful stuff, such as actual lines, legends, labels, etc., are actually housed.\n",
    "\n",
    "For example, here's how to make one figure with two subplots, the second of which contains\n",
    "two lines."
   ]
  },
  {
   "cell_type": "code",
   "execution_count": null,
   "metadata": {
    "collapsed": true
   },
   "outputs": [],
   "source": [
    "# First we make some data to plot\n",
    "x = np.linspace(-2*np.pi, 2*np.pi)\n",
    "y1 = np.sin(x)\n",
    "y2 = np.cos(x)"
   ]
  },
  {
   "cell_type": "markdown",
   "metadata": {},
   "source": [
    "First, create an empty figure with 2 subplots\n",
    "using the subplots method\n",
    "    \n",
    "    figure, axes = plt.subplots(rows, columns)\n",
    "\n",
    "- The arguments (1, 2) indicate 1 row and 2 cols\n",
    "- The function plt.subplots returns an object for the figure and for each axes\n",
    "- There are multiple ways to accomplish this same goal, but this is probably the simplest - notice that each subplot is associated with one of the axes objects."
   ]
  },
  {
   "cell_type": "code",
   "execution_count": null,
   "metadata": {
    "collapsed": false
   },
   "outputs": [],
   "source": [
    "fig, axes = plt.subplots(1,2)"
   ]
  },
  {
   "cell_type": "markdown",
   "metadata": {},
   "source": [
    "Now let's actually plot the data using the plot method on an axis\n",
    "\n",
    "   axis.plot(x, y)\n",
    "   \n",
    "You can plot multiple lines on an axis   "
   ]
  },
  {
   "cell_type": "code",
   "execution_count": null,
   "metadata": {
    "collapsed": false
   },
   "outputs": [],
   "source": [
    "\n",
    "fig, axes = plt.subplots(1,2)\n",
    "\n",
    "# We plot one line on the first axis\n",
    "axes[0].plot(x, y1)\n",
    "# and both lines on the second axis\n",
    "axes[1].plot(x, y1)\n",
    "axes[1].plot(x, y2)\n",
    "\n",
    "# I do this to silence the last print\n",
    "print"
   ]
  },
  {
   "cell_type": "markdown",
   "metadata": {},
   "source": [
    "Many of the basic formatting problems you have will be solved by the magic of `tight_layou`t. Before you start tweaking how you figure looks, try it out.\n",
    "\n",
    "    plt.tight_layout()"
   ]
  },
  {
   "cell_type": "code",
   "execution_count": null,
   "metadata": {
    "collapsed": false
   },
   "outputs": [],
   "source": [
    "fig, axes = plt.subplots(1,2)\n",
    "axes[0].plot(x, y1)\n",
    "axes[1].plot(x, y1)\n",
    "axes[1].plot(x, y2)\n",
    "\n",
    "plt.tight_layout()\n",
    "\n",
    "# I do this to silence the last print\n",
    "print"
   ]
  },
  {
   "cell_type": "markdown",
   "metadata": {},
   "source": [
    "To save your figure you can use the `savefig` command:\n",
    "\n",
    "    fig.savefig('fileanme', format='png')\n",
    "    \n",
    "Format options include png, pdf, ps, eps and svg"
   ]
  },
  {
   "cell_type": "code",
   "execution_count": null,
   "metadata": {
    "collapsed": false
   },
   "outputs": [],
   "source": [
    "fig, axes = plt.subplots(1,2)\n",
    "axes[0].plot(x, y1)\n",
    "axes[1].plot(x, y1)\n",
    "axes[1].plot(x, y2)\n",
    "\n",
    "fig.savefig('first_plot.png', format='png')\n",
    "\n",
    "# I do this to silence the last print\n",
    "print"
   ]
  },
  {
   "cell_type": "markdown",
   "metadata": {},
   "source": [
    "### TRY IT\n",
    "Create a line graph plotting the function f(x) = x^3 for values of x 0-10."
   ]
  },
  {
   "cell_type": "code",
   "execution_count": null,
   "metadata": {
    "collapsed": false
   },
   "outputs": [],
   "source": []
  },
  {
   "cell_type": "markdown",
   "metadata": {},
   "source": [
    "## 3. Formatting Figures\n",
    "\n",
    "The formatting of figures often takes longer than actually setting them up and adding data. There are many different approaches to formatting figures in matplotlib (many goals can be accomplished in different ways, using different commands), and you will come across many of these as you learn more. The tips below give a few simple ways to get started.\n",
    "\n",
    "### 3.1 Line formatting\n",
    "\n",
    "The plot method has several available keyword arguments that you can use to change the line formatting.\n",
    "\n",
    "* color - Chages color of line. examples: 'red', 'blue', 'r', 'k', 0.5, '#ffaa00', (0,0.5,0.75)\n",
    "* linewidth - Weight of line. Takes float value in points (like font)\n",
    "* linestyle - Solid, dashed, or other. examples: -, --, -."
   ]
  },
  {
   "cell_type": "code",
   "execution_count": null,
   "metadata": {
    "collapsed": false
   },
   "outputs": [],
   "source": [
    "x = np.linspace(-2*np.pi, 2*np.pi)\n",
    "y1 = np.sin(x)\n",
    "y2 = np.cos(x)\n",
    "\n",
    "fig, axes = plt.subplots(1,2)\n",
    "axes[0].plot(x, y1, color='r', linewidth=5)\n",
    "axes[1].plot(x, y1, color='#ffaa00', linewidth=0.5, linestyle='--')\n",
    "axes[1].plot(x, y2, color='green', linestyle='-.')\n"
   ]
  },
  {
   "cell_type": "markdown",
   "metadata": {},
   "source": [
    "### 3.2 Tick marks\n",
    "\n",
    "You can set the values where the ticks are located using the `xticks` and `yticks` methods.\n",
    "\n",
    "They take a list of values\n",
    "\n",
    "    plt.xticks([val1, val2, val3])\n",
    "    plt.yticks([yval1, yval2, yval3])\n",
    "    "
   ]
  },
  {
   "cell_type": "code",
   "execution_count": null,
   "metadata": {
    "collapsed": false,
    "scrolled": true
   },
   "outputs": [],
   "source": [
    "x = np.linspace(-2*np.pi, 2*np.pi)\n",
    "y1 = np.sin(x)\n",
    "y2 = np.cos(x)\n",
    "\n",
    "fig, axes = plt.subplots(1,2)\n",
    "axes[0].plot(x, y1, color='r', linewidth=5)\n",
    "axes[1].plot(x, y1, color='#ffaa00', linewidth=0.5, linestyle='--')\n",
    "axes[1].plot(x, y2, color='green', linestyle='-.')\n",
    "plt.xticks([-np.pi, -np.pi/2, 0, np.pi/2, np.pi])\n",
    "plt.yticks([-1, 0, 1])"
   ]
  },
  {
   "cell_type": "markdown",
   "metadata": {},
   "source": [
    "Oh no! That changed it for the last plot but not for the first plot. \n",
    "\n",
    "To set each plot individually, you need to set the current axis to the subplot you are interested in using the method `sca`. Then you can use `xticks` and `yticks`.\n",
    "\n",
    "    plt.sca(axis)\n",
    "    plt.xticks([val1, val2, val3])\n",
    "    plt.yticks([yval1, yval2, yval3])\n",
    "    "
   ]
  },
  {
   "cell_type": "code",
   "execution_count": null,
   "metadata": {
    "collapsed": false
   },
   "outputs": [],
   "source": [
    "x = np.linspace(-2*np.pi, 2*np.pi)\n",
    "y1 = np.sin(x)\n",
    "y2 = np.cos(x)\n",
    "\n",
    "fig, axes = plt.subplots(1,2)\n",
    "axes[0].plot(x, y1, color='r', linewidth=5)\n",
    "axes[1].plot(x, y1, color='#ffaa00', linewidth=0.5, linestyle='--')\n",
    "axes[1].plot(x, y2, color='green', linestyle='-.')\n",
    "\n",
    "# Set the current axis to the first subplot\n",
    "fig.sca(axes[0])\n",
    "# set x and y ticks\n",
    "plt.xticks([-np.pi, -np.pi/2, 0, np.pi/2, np.pi])\n",
    "plt.yticks([-1, 0, 1])\n",
    "\n",
    "# Set the current axis to the second subplot\n",
    "fig.sca(axes[1])\n",
    "# set x and y ticks\n",
    "plt.xticks([-np.pi, -np.pi/2, 0, np.pi/2, np.pi])\n",
    "plt.yticks([-1, 0, 1])\n",
    "\n",
    "print"
   ]
  },
  {
   "cell_type": "markdown",
   "metadata": {},
   "source": [
    "### 3.3 Axis limits\n",
    "\n",
    "Setting the limits of the axes is very similar to setting the ticks. The command to set the limits are `xlim` and `ylim`. Remember if you have more than one subplot, you will need to set the current axis before you set that axis' limits.\n",
    "\n",
    "    plt.sca(axis)\n",
    "    plt.xlim(xmin, xmax)\n",
    "    plt.ylim(ymin, ymax)\n",
    "    \n",
    "    "
   ]
  },
  {
   "cell_type": "code",
   "execution_count": null,
   "metadata": {
    "collapsed": false
   },
   "outputs": [],
   "source": [
    "x = np.linspace(-2*np.pi, 2*np.pi)\n",
    "y1 = np.sin(x)\n",
    "y2 = np.cos(x)\n",
    "\n",
    "fig, axes = plt.subplots(1,2)\n",
    "axes[0].plot(x, y1, color='r', linewidth=5)\n",
    "axes[1].plot(x, y1, color='#ffaa00', linewidth=0.5, linestyle='--')\n",
    "axes[1].plot(x, y2, color='green', linestyle='-.')\n",
    "\n",
    "# Set the current axis to the first subplot\n",
    "fig.sca(axes[0])\n",
    "# set x and y ticks\n",
    "plt.xticks([-np.pi, -np.pi/2, 0, np.pi/2, np.pi])\n",
    "plt.yticks([-1, 0, 1])\n",
    "\n",
    "\n",
    "# set x and y limits\n",
    "plt.xlim(-np.pi, np.pi)\n",
    "plt.ylim(-1, 1)\n",
    "\n",
    "# Set the current axis to the second subplot\n",
    "fig.sca(axes[1])\n",
    "# set x and y ticks\n",
    "plt.xticks([-np.pi, -np.pi/2, 0, np.pi/2, np.pi])\n",
    "plt.yticks([-1, 0, 1])\n",
    "\n",
    "\n",
    "# set x and y limits\n",
    "plt.xlim(-np.pi, np.pi)\n",
    "plt.ylim(-1, 1)\n",
    "\n",
    "print"
   ]
  },
  {
   "cell_type": "markdown",
   "metadata": {},
   "source": [
    "### 3.4 Setting tick labels\n",
    "\n",
    "To set the tick labels, you pass a second parameter to the `xticks` and `yticks` methods with a list of labels for that axis. \n",
    "\n",
    "    plt.sca(axis)\n",
    "    plt.xticks([tickvalues], [ticklabels])\n",
    "    plt.yticks([tickvalues], [ticklabels])\n",
    "    "
   ]
  },
  {
   "cell_type": "code",
   "execution_count": null,
   "metadata": {
    "collapsed": false
   },
   "outputs": [],
   "source": [
    "x = np.linspace(-2*np.pi, 2*np.pi)\n",
    "y1 = np.sin(x)\n",
    "y2 = np.cos(x)\n",
    "\n",
    "fig, axes = plt.subplots(1,2)\n",
    "axes[0].plot(x, y1, color='r', linewidth=5)\n",
    "axes[1].plot(x, y1, color='#ffaa00', linewidth=0.5, linestyle='--')\n",
    "axes[1].plot(x, y2, color='green', linestyle='-.')\n",
    "\n",
    "# Set the current axis to the first subplot\n",
    "fig.sca(axes[0])\n",
    "# set x and y ticks\n",
    "plt.xticks([-np.pi, -np.pi/2, 0, np.pi/2, np.pi], ['-pi', '-pi/2', '0', 'pi/2', 'pi'])\n",
    "# You probably don't want to set the labels when you just want the exact numbers.\n",
    "plt.yticks([-1, 0, 1], ['-1', '0', '1'])\n",
    "\n",
    "\n",
    "# set x and y limits\n",
    "plt.xlim(-np.pi, np.pi)\n",
    "plt.ylim(-1, 1)\n",
    "\n",
    "# Set the current axis to the second subplot\n",
    "fig.sca(axes[1])\n",
    "# set x and y ticks\n",
    "plt.xticks([-np.pi, -np.pi/2, 0, np.pi/2, np.pi], ['-pi', '-pi/2', '0', 'pi/2', 'pi'])\n",
    "plt.yticks([-1, 0, 1], ['-1', '0', '1'])\n",
    "\n",
    "\n",
    "# set x and y limits\n",
    "plt.xlim(-np.pi, np.pi)\n",
    "plt.ylim(-1, 1)\n",
    "\n",
    "print"
   ]
  },
  {
   "cell_type": "markdown",
   "metadata": {},
   "source": [
    "### 3.5 Legend\n",
    "\n",
    "When you create a line on a plot, you can pass it a keyword argument `label` and then create a legend that will use that label using the `legend` method. The `legend` method takes an optional parameter of `loc` for the location of the legend. You can see the values allowed here: http://matplotlib.org/api/pyplot_api.html#matplotlib.pyplot.legend This is another one of those commands that you need to set the current axis if you have more than one subplot.\n",
    "\n",
    "    plt.plot(x,y, label='my_label')\n",
    "    plt.legend(loc='best')"
   ]
  },
  {
   "cell_type": "code",
   "execution_count": null,
   "metadata": {
    "collapsed": false
   },
   "outputs": [],
   "source": [
    "x = np.linspace(-2*np.pi, 2*np.pi)\n",
    "y1 = np.sin(x)\n",
    "y2 = np.cos(x)\n",
    "\n",
    "fig, axes = plt.subplots(1,2)\n",
    "# Let's set labels here\n",
    "axes[0].plot(x, y1, color='r', linewidth=5, label='sin(x)')\n",
    "axes[1].plot(x, y1, color='#ffaa00', linewidth=0.5, linestyle='--', label='sin(x)')\n",
    "axes[1].plot(x, y2, color='green', linestyle='-.', label='cos(x)')\n",
    "\n",
    "# Set the current axis to the first subplot\n",
    "fig.sca(axes[0])\n",
    "# set x and y ticks\n",
    "plt.xticks([-np.pi, -np.pi/2, 0, np.pi/2, np.pi], ['-pi', '-pi/2', '0', 'pi/2', 'pi'])\n",
    "# You probably don't want to set the labels when you just want the exact numbers.\n",
    "plt.yticks([-1, 0, 1], ['-1', '0', '1'])\n",
    "plt.legend(loc='best')\n",
    "\n",
    "# set x and y limits\n",
    "plt.xlim(-np.pi, np.pi)\n",
    "plt.ylim(-1, 1)\n",
    "\n",
    "# Set the current axis to the second subplot\n",
    "fig.sca(axes[1])\n",
    "# set x and y ticks\n",
    "plt.xticks([-np.pi, -np.pi/2, 0, np.pi/2, np.pi], ['-pi', '-pi/2', '0', 'pi/2', 'pi'])\n",
    "plt.yticks([-1, 0, 1], ['-1', '0', '1'])\n",
    "plt.legend(loc='upper right')\n",
    "\n",
    "# set x and y limits\n",
    "plt.xlim(-np.pi, np.pi)\n",
    "plt.ylim(-1, 1)\n",
    "\n",
    "print"
   ]
  },
  {
   "cell_type": "markdown",
   "metadata": {},
   "source": [
    "### TRY IT\n",
    "Go back to your plot of f(x) = x^3 for values of x 0-10. Try out some of the formatting options you just learned to make your plot look \"just right\""
   ]
  },
  {
   "cell_type": "code",
   "execution_count": null,
   "metadata": {
    "collapsed": true
   },
   "outputs": [],
   "source": []
  },
  {
   "cell_type": "markdown",
   "metadata": {},
   "source": [
    "## 4. Other types of plots\n",
    "\n",
    "Matplotlib is more than just line plots, let's see what else it can do.\n"
   ]
  },
  {
   "cell_type": "markdown",
   "metadata": {},
   "source": [
    "### 1.1 Other plots\n",
    "\n",
    "In the examples above, we used the plot method to make line plots. There are also methods to\n",
    "make scatter plots, barplots, histograms, loglog plots, semilog plots, etc.\n",
    "\n",
    "    # Bar graph\n",
    "    ax.bar(x, y)\n",
    "    \n",
    "    # Scatter plot\n",
    "    ax.scatter(x,y)\n",
    "    \n",
    "    # Horizontal bar plot\n",
    "    ax.barh(x,y)\n",
    "    \n",
    "    # Boxplot\n",
    "    ax.boxplot(x)\n",
    "    \n",
    "    # Log-log plot\n",
    "    ax.loglog(x,y)\n",
    "    \n",
    "    # Semilog plot\n",
    "    ax.semilogx(x,y)\n",
    "    ax.semilogy(x,y)\n",
    "    \n",
    "Plots too squished? Check out plt.tight_layout()"
   ]
  },
  {
   "cell_type": "code",
   "execution_count": null,
   "metadata": {
    "collapsed": false
   },
   "outputs": [],
   "source": [
    "# Make some data to plot\n",
    "x = np.arange(0, 100)\n",
    "y = np.random.rand(100)  # 100 random numbers\n",
    "\n",
    "# Make a figure with 6 subplots and axes\n",
    "# Notice that we are doing some arguement unpacking to get six subplots. You can use indexing instead if you prefer\n",
    "fig, ((ax1, ax2), (ax3, ax4), (ax5, ax6)) = plt.subplots(3, 2)\n",
    "\n",
    "# Add data to each axis. Optional arguments to each method will customize each plot.\n",
    "ax1.bar(x,y)\n",
    "ax2.scatter(x,y)\n",
    "ax3.barh(x,y)\n",
    "ax4.boxplot(x)\n",
    "ax5.loglog(x,y)\n",
    "ax6.semilogx(x,y)\n",
    "\n",
    "#plt.tight_layout()"
   ]
  },
  {
   "cell_type": "markdown",
   "metadata": {},
   "source": [
    "Many of the same formatting options as the line plot are available for these additional plots. There are also some other options. The gallery (section 5) is the best place to find all the options. \n",
    "\n",
    "Let's try changing the marker on the scatter plot: http://matplotlib.org/exmples/lines_bars_and_markers/marker_reference.html\n",
    "\n"
   ]
  },
  {
   "cell_type": "code",
   "execution_count": null,
   "metadata": {
    "collapsed": false
   },
   "outputs": [],
   "source": [
    "fig, ax = plt.subplots(1,1)\n",
    "ax.scatter(x, y, marker='x')\n",
    "ax.scatter(x, y + 2, marker='>', color='#00aaff')"
   ]
  },
  {
   "cell_type": "markdown",
   "metadata": {},
   "source": [
    "### 4.2 Plotting images\n",
    "\n",
    "Matplotlib also makes it easy to plot images. For this, you can use the plot method `imshow`\n",
    "(syntax borrowed from Matlab).\n",
    "\n",
    "To load in an image we use the `imread` function. This takes a file path and reads the file into a numpy ndarray\n",
    "\n",
    "To plot an image, you can use `imshow` function giving it an array. \n",
    "\n",
    "A 1D array will be rendered as grayscale and a 3D or (4D with transparency) array will be a full color image.\n",
    "\n",
    "To set the colormap of a grayscale image, you can use the optional `cmap` key word argument to `imshow`. Options available are listed here: http://matplotlib.org/examples/color/colormaps_reference.html"
   ]
  },
  {
   "cell_type": "code",
   "execution_count": null,
   "metadata": {
    "collapsed": false
   },
   "outputs": [],
   "source": [
    "# Read image from file and display it\n",
    "img1 = plt.imread('lena.png')\n",
    "# Uncomment following line to prove it still works without the alpha channel\n",
    "# img1 = img1[:,:, 0:3]\n",
    "fig, ax = plt.subplots(1,1)\n",
    "ax.imshow(img1)"
   ]
  },
  {
   "cell_type": "code",
   "execution_count": null,
   "metadata": {
    "collapsed": false
   },
   "outputs": [],
   "source": [
    "# We can plot random noise in the viridis colormap.\n",
    "img2 = np.random.rand(128, 128)\n",
    "\n",
    "fig, ax = plt.subplots(1,1)\n",
    "ax = ax.imshow(img2, cmap='viridis')"
   ]
  },
  {
   "cell_type": "markdown",
   "metadata": {},
   "source": [
    "### TRY IT\n",
    "Plot the cubes from 1-10 in a vertical bar chart and in a scatter plot (2 separate subplots). Change the colors of the bars to green. Change the marker of the scatter plot to plus signs."
   ]
  },
  {
   "cell_type": "code",
   "execution_count": null,
   "metadata": {
    "collapsed": false
   },
   "outputs": [],
   "source": []
  },
  {
   "cell_type": "markdown",
   "metadata": {},
   "source": [
    "## 5. The matplotlib gallery\n",
    "\n",
    "It can be very intimidating to try to craft exactly the figure that you want, especially if\n",
    "you are used to being able to adjust things visually using a program like Excel.\n",
    "\n",
    "If you get stuck and don't know where to start, or just want to learn more about what\n",
    "matplotlib can do, a great option is to have a look at the matplotlib gallery, which can be\n",
    "found at http://matplotlib.org/gallery.html. A good way to get started is to find a figure\n",
    "here that sort of looks like what you want, copy the code, and modify it for your own needs."
   ]
  },
  {
   "cell_type": "markdown",
   "metadata": {},
   "source": [
    "### 5.1 Exploring the matplotlib gallery\n",
    "\n",
    "Have a look at the matplotlib gallery. If find a cool looking figure you can copy the code into a code line. You can of course do this manually but you can also use IPython \"load magic\" Type %loadpy and then the URL of the py file containing the code, and it will automatically copy it into a cell below. Run the cell with the code to see the\n",
    "figure. Now you can make small (or large) tweaks to get your perfect figure.\n",
    "\n",
    "\n",
    "Note that some of the examples might require packages that are not installed on your machine (in particular those that make maps) - if this is the case, pick another example for the purposes of this exercise.\n",
    "\n",
    "**Hint** to get the raw python url right click on the source code link towards the top and pick copy link."
   ]
  },
  {
   "cell_type": "code",
   "execution_count": null,
   "metadata": {
    "collapsed": false
   },
   "outputs": [],
   "source": [
    "# %load http://matplotlib.org/mpl_examples/pylab_examples/contour_demo.py"
   ]
  },
  {
   "cell_type": "markdown",
   "metadata": {},
   "source": [
    "### TRY IT\n",
    "Find an example from the gallery and run it here."
   ]
  },
  {
   "cell_type": "code",
   "execution_count": null,
   "metadata": {
    "collapsed": true
   },
   "outputs": [],
   "source": []
  }
 ],
 "metadata": {
  "kernelspec": {
   "display_name": "Python 2",
   "language": "python",
   "name": "python2"
  },
  "language_info": {
   "codemirror_mode": {
    "name": "ipython",
    "version": 2
   },
   "file_extension": ".py",
   "mimetype": "text/x-python",
   "name": "python",
   "nbconvert_exporter": "python",
   "pygments_lexer": "ipython2",
   "version": "2.7.11"
  }
 },
 "nbformat": 4,
 "nbformat_minor": 0
}
