{
 "cells": [
  {
   "cell_type": "markdown",
   "metadata": {},
   "source": [
    "Adapted from Scientific Python: Part 1 (lessons/thw-numpy/numpy.ipynb)"
   ]
  },
  {
   "cell_type": "markdown",
   "metadata": {},
   "source": [
    "## Introducing NumPy\n",
    "\n",
    "NumPy is a Python package implementing efficient collections of specific types of data (generally numerical), similar to the standard array\n",
    "module (but with many more features). NumPy arrays differ from lists and tuples in that the data is contiguous in memory. A Python **list**, \n",
    "```[0, 1, 2]```, in contrast, is actually an array of pointers to Python objects representing each number. This allows NumPy arrays to be\n",
    "considerably faster for numerical operations than Python lists/tuples."
   ]
  },
  {
   "cell_type": "code",
   "execution_count": 1,
   "metadata": {
    "collapsed": false
   },
   "outputs": [],
   "source": [
    "# by convention, we typically import numpy as the alias np\n",
    "import numpy as np"
   ]
  },
  {
   "cell_type": "code",
   "execution_count": 4,
   "metadata": {
    "collapsed": false
   },
   "outputs": [
    {
     "data": {
      "text/plain": [
       "3.141592653589793"
      ]
     },
     "execution_count": 4,
     "metadata": {},
     "output_type": "execute_result"
    }
   ],
   "source": [
    "#np?\n",
    "np.pi"
   ]
  },
  {
   "cell_type": "code",
   "execution_count": 5,
   "metadata": {
    "collapsed": false
   },
   "outputs": [
    {
     "name": "stdout",
     "output_type": "stream",
     "text": [
      "2.0\n",
      "3.14159265359\n",
      "1.22464679915e-16\n"
     ]
    }
   ],
   "source": [
    "print np.sqrt(4)\n",
    "print np.pi         # a constant\n",
    "print np.sin(np.pi)"
   ]
  },
  {
   "cell_type": "markdown",
   "metadata": {},
   "source": [
    "\"That's great,\" you're thinking.  \"`math` already has all of those functions and constants.\"  But that's not the real beauty of NumPy."
   ]
  },
  {
   "cell_type": "markdown",
   "metadata": {},
   "source": [
    "### Numpy arrays (ndarrays)\n",
    "\n",
    "Creating a NumPy array is as simple as passing a sequence to numpy.array:\n",
    "    \n",
    "Numpy arrays are collections of things, all of which must be the same type, that work\n",
    "similarly to lists (as we've described them so far). The most important are:\n",
    "\n",
    "1. You can easily perform elementwise operations (and matrix algebra) on arrays\n",
    "1. Arrays can be n-dimensional\n",
    "1. Arrays must be pre-allocated (ie, there is no equivalent to append)\n",
    "\n",
    "Arrays can be created from existing collections such as lists, or instantiated \"from scratch\" in a \n",
    "few useful ways."
   ]
  },
  {
   "cell_type": "code",
   "execution_count": 7,
   "metadata": {
    "collapsed": false
   },
   "outputs": [
    {
     "name": "stdout",
     "output_type": "stream",
     "text": [
      "<type 'numpy.ndarray'>\n",
      "float64\n",
      "[ 1.   2.3  4. ]\n"
     ]
    }
   ],
   "source": [
    "arr1 = np.array([1, 2.3, 4])   \n",
    "print type(arr1)\n",
    "print arr1.dtype \n",
    "print arr1"
   ]
  },
  {
   "cell_type": "markdown",
   "metadata": {},
   "source": [
    "All the datatypes you can create numpy arrays with: \n",
    "http://docs.scipy.org/doc/numpy-1.10.1/user/basics.types.html\n",
    "\n",
    "There are many other ways to create NumPy arrays, such as `np.identity`, `np.zeros`, `np.zeros_like`."
   ]
  },
  {
   "cell_type": "code",
   "execution_count": null,
   "metadata": {
    "collapsed": false
   },
   "outputs": [],
   "source": [
    "print '2 rows, 3 columns of zeros:\\n', np.zeros((2,3))\n",
    "print '4x4 identity matrix:\\n', np.identity(4)\n",
    "squared = []\n",
    "for x in range(5):\n",
    "    squared.append(x**2)\n",
    "a = np.array(squared)\n",
    "b = np.zeros_like(a)\n",
    "\n",
    "print 'a:\\n', a\n",
    "print 'b:\\n', b\n"
   ]
  },
  {
   "cell_type": "markdown",
   "metadata": {},
   "source": [
    "These arrays have attributes, like `.ndim` and `.shape` that tell us about the number and length of the dimensions."
   ]
  },
  {
   "cell_type": "code",
   "execution_count": null,
   "metadata": {
    "collapsed": false
   },
   "outputs": [],
   "source": [
    "c = np.ones((15, 30))\n",
    "print 'number of dimensions of c:', c.ndim\n",
    "print 'length of c in each dimension:', c.shape"
   ]
  },
  {
   "cell_type": "markdown",
   "metadata": {},
   "source": [
    "NumPy has its own `range()` function, `np.arange()`, that is more efficient for building larger arrays.  It functions in much the same way as `range()`.\n",
    "NumPy also has `linspace()` and `logspace()`, that can generate equally spaced samples between a start-point and an end-point.  Find out more with `np.linspace?`."
   ]
  },
  {
   "cell_type": "markdown",
   "metadata": {},
   "source": [
    "## Arithmetic with ndarrays\n",
    "\n",
    "Standard arithmetic operators perform element-wise operations on arrays of the same size."
   ]
  },
  {
   "cell_type": "code",
   "execution_count": null,
   "metadata": {
    "collapsed": false
   },
   "outputs": [],
   "source": [
    "A = np.arange(5)\n",
    "B = np.arange(5, 10)\n",
    "\n",
    "print 'A', A\n",
    "print 'B', B\n",
    "\n",
    "print 'A+B', A+B\n",
    "print 'B-A', B-A\n",
    "print 'A*B', A*B"
   ]
  },
  {
   "cell_type": "markdown",
   "metadata": {},
   "source": [
    "In addition, if one of the arguments is a scalar, that value will be applied to all the elements of the array."
   ]
  },
  {
   "cell_type": "code",
   "execution_count": null,
   "metadata": {
    "collapsed": false
   },
   "outputs": [],
   "source": [
    "A = np.arange(5)\n",
    "print 'A', A\n",
    "print 'A+10', A+10\n",
    "print '2 * A', 2*A \n",
    "print 'A ** 2', A**2 "
   ]
  },
  {
   "cell_type": "markdown",
   "metadata": {},
   "source": [
    "### Linear algebra with arrays\n",
    "\n",
    "You can use arrays as vectors and matrices in linear algebra operations\n",
    "\n",
    "Specifically, you can perform matrix/vector multiplication between arrays, by using the .dot method, or the np.dot function:"
   ]
  },
  {
   "cell_type": "code",
   "execution_count": null,
   "metadata": {
    "collapsed": false
   },
   "outputs": [],
   "source": [
    "print A.dot(B)\n",
    "print np.dot(A, B)"
   ]
  },
  {
   "cell_type": "markdown",
   "metadata": {},
   "source": [
    "If you are planning on doing serious linear algebra, you might be better off using the np.matrix object instead of np.array."
   ]
  },
  {
   "cell_type": "markdown",
   "metadata": {},
   "source": [
    "## Numpy 'gotchas'\n",
    "\n",
    "### Multiplication and Addition\n",
    "\n",
    "As you may have noticed above, since NumPy arrays are modeled more closely after vectors and matrices, multiplying by a scalar will multiply each element of the array, whereas multiplying a list by a scalar will repeat that list N times."
   ]
  },
  {
   "cell_type": "code",
   "execution_count": null,
   "metadata": {
    "collapsed": false
   },
   "outputs": [],
   "source": [
    "A = np.arange(5)*2\n",
    "print(A) \n",
    "B = range(5)*2\n",
    "print(B)"
   ]
  },
  {
   "cell_type": "markdown",
   "metadata": {},
   "source": [
    "Similarly, when adding two numpy arrays together, we get the vector sum back, whereas when adding two lists together, we get the concatenation back."
   ]
  },
  {
   "cell_type": "code",
   "execution_count": null,
   "metadata": {
    "collapsed": false
   },
   "outputs": [],
   "source": [
    "A = np.arange(5) + np.arange(5)\n",
    "print(A)\n",
    "B =range(5) + range(5)\n",
    "print(B)"
   ]
  },
  {
   "cell_type": "markdown",
   "metadata": {},
   "source": [
    "### Views vs. Copies\n",
    "\n",
    "In order to be as efficient as possible, numpy uses \"views\" instead of copies wherever possible. That is, numpy arrays derived from another base array generally refer to the ''exact same data'' as the base array. The consequence of this is that modification of these derived arrays will also modify the base array. The result of an array indexed by an array of indices is a ''copy'', but an array indexed by an array of booleans is a ''view''. \n",
    "\n",
    "Specifically, slices of arrays are always views, unlike slices of lists or tuples, which are always copies."
   ]
  },
  {
   "cell_type": "code",
   "execution_count": null,
   "metadata": {
    "collapsed": false
   },
   "outputs": [],
   "source": [
    "A = np.arange(5)\n",
    "B = A[0:1]\n",
    "B[0] = 42\n",
    "print(A)\n",
    "\n",
    "A = range(5)\n",
    "B = A[0:1]\n",
    "B[0] = 42\n",
    "print(A)"
   ]
  },
  {
   "cell_type": "markdown",
   "metadata": {
    "collapsed": false
   },
   "source": [
    "## Linear algebra with arrays\n",
    "You can use arrays as vectors and matrices in linear algebra operations\n",
    "\n",
    "Specifically, you can perform matrix/vector multiplication between arrays, by using the `.dot` method, or the `np.dot` function:"
   ]
  },
  {
   "cell_type": "code",
   "execution_count": null,
   "metadata": {
    "collapsed": false
   },
   "outputs": [],
   "source": [
    "A = np.arange(5)\n",
    "B = np.arange(5, 10)\n",
    "print A.dot(B)\n",
    "print np.dot(A, B)"
   ]
  },
  {
   "cell_type": "markdown",
   "metadata": {},
   "source": [
    "### Boolean operators work on arrays too, and they return boolean arrays\n",
    "Much like the basic arithmetic operations we discussed above, comparison operations are perfomed element-wise. That is, rather than returning a\n",
    "single boolean, comparison operators compare each element in both arrays pairwise, and return an `array` of booleans (if the sizes of the input\n",
    "arrays are incompatible, the comparison will simply return False). For example:"
   ]
  },
  {
   "cell_type": "code",
   "execution_count": null,
   "metadata": {
    "collapsed": false
   },
   "outputs": [],
   "source": [
    "arr1 = np.array([1, 2, 3, 4, 5])\n",
    "arr2 = np.array([1, 1, 3, 3, 5])\n",
    "print(arr1 == arr2)\n",
    "c = (arr1 == arr2)\n",
    "print type(c)\n",
    "print c.dtype"
   ]
  },
  {
   "cell_type": "markdown",
   "metadata": {},
   "source": [
    "Note: You can use the methods `.any()` and `.all()` or the functions `np.any` and `np.all` to return a single boolean indicating whether any or all values in the array are `True`, respectively."
   ]
  },
  {
   "cell_type": "code",
   "execution_count": null,
   "metadata": {
    "collapsed": false
   },
   "outputs": [],
   "source": [
    "print(np.all(c))\n",
    "print(c.all())\n",
    "print(c.any())"
   ]
  },
  {
   "cell_type": "markdown",
   "metadata": {},
   "source": [
    "### Indexing arrays\n",
    "\n",
    "In addition to the usual methods of indexing lists with an integer (or with a series of colon-separated integers for a slice), numpy allows you\n",
    "to index arrays in a wide variety of different ways for more advanced operations.\n",
    "\n",
    "First, the simple way:"
   ]
  },
  {
   "cell_type": "code",
   "execution_count": null,
   "metadata": {
    "collapsed": false
   },
   "outputs": [],
   "source": [
    "a = np.array([1,2,3])\n",
    "print a[0:2]"
   ]
  },
  {
   "cell_type": "markdown",
   "metadata": {},
   "source": [
    "### What happens if the array has more than one dimension? "
   ]
  },
  {
   "cell_type": "code",
   "execution_count": null,
   "metadata": {
    "collapsed": false
   },
   "outputs": [],
   "source": [
    "c = np.random.rand(3,3)\n",
    "print(c)\n",
    "print(c[1:3,0:2])\n",
    "c[0,:] = a\n",
    "print(c)"
   ]
  },
  {
   "cell_type": "code",
   "execution_count": null,
   "metadata": {
    "collapsed": true
   },
   "outputs": [],
   "source": []
  }
 ],
 "metadata": {
  "kernelspec": {
   "display_name": "Python 2",
   "language": "python",
   "name": "python2"
  },
  "language_info": {
   "codemirror_mode": {
    "name": "ipython",
    "version": 2
   },
   "file_extension": ".py",
   "mimetype": "text/x-python",
   "name": "python",
   "nbconvert_exporter": "python",
   "pygments_lexer": "ipython2",
   "version": "2.7.11"
  }
 },
 "nbformat": 4,
 "nbformat_minor": 0
}
