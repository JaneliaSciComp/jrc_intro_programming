{
 "cells": [
  {
   "cell_type": "markdown",
   "metadata": {},
   "source": [
    "Adapted from Scientific Python: Part 1 (lessons/thw-numpy/numpy.ipynb)"
   ]
  },
  {
   "cell_type": "markdown",
   "metadata": {},
   "source": [
    "## Introducing NumPy\n",
    "\n",
    "NumPy is a Python package implementing efficient collections of specific types of data (generally numerical), similar to the standard array\n",
    "module (but with many more features). NumPy arrays differ from lists and tuples in that the data is contiguous in memory. A Python **list**, \n",
    "```[0, 1, 2]```, in contrast, is actually an array of pointers to Python objects representing each number. This allows NumPy arrays to be\n",
    "considerably faster for numerical operations than Python lists/tuples."
   ]
  },
  {
   "cell_type": "code",
   "execution_count": null,
   "metadata": {
    "collapsed": false
   },
   "outputs": [],
   "source": [
    "# by convention, we typically import numpy as the alias np\n",
    "import numpy as np"
   ]
  },
  {
   "cell_type": "markdown",
   "metadata": {},
   "source": [
    "Let's see what numpy can do."
   ]
  },
  {
   "cell_type": "code",
   "execution_count": null,
   "metadata": {
    "collapsed": true
   },
   "outputs": [],
   "source": [
    "np?\n",
    "#np."
   ]
  },
  {
   "cell_type": "markdown",
   "metadata": {},
   "source": [
    "We can try out some of those constants and functions:"
   ]
  },
  {
   "cell_type": "code",
   "execution_count": null,
   "metadata": {
    "collapsed": false
   },
   "outputs": [],
   "source": [
    "print(np.sqrt(4))\n",
    "print(np.pi)         # a constant\n",
    "print(np.sin(np.pi))"
   ]
  },
  {
   "cell_type": "markdown",
   "metadata": {},
   "source": [
    "\"That's great,\" you're thinking.  \"`math` already has all of those functions and constants.\"  But that's not the real beauty of NumPy."
   ]
  },
  {
   "cell_type": "markdown",
   "metadata": {},
   "source": [
    "### TRY IT\n",
    "Find the square root of pi using numpy functions and constants"
   ]
  },
  {
   "cell_type": "code",
   "execution_count": null,
   "metadata": {
    "collapsed": true
   },
   "outputs": [],
   "source": []
  },
  {
   "cell_type": "markdown",
   "metadata": {},
   "source": [
    "### Numpy arrays (ndarrays)\n",
    "\n",
    "Creating a NumPy array is as simple as passing a sequence to numpy.array:\n",
    "    \n",
    "Numpy arrays are collections of things, **all of which must be the same type**, that work\n",
    "similarly to lists (as we've described them so far). The most important are:\n",
    "\n",
    "1. You can easily perform elementwise operations (and matrix algebra) on arrays\n",
    "1. Arrays can be n-dimensional\n",
    "1. Arrays must be pre-allocated (ie, there is no equivalent to append)\n",
    "\n",
    "Arrays can be created from existing collections such as lists, or instantiated \"from scratch\" in a \n",
    "few useful ways."
   ]
  },
  {
   "cell_type": "code",
   "execution_count": null,
   "metadata": {
    "collapsed": false
   },
   "outputs": [],
   "source": [
    "arr1 = np.array([1, 2.3, 4]) \n",
    "# Type of a numpy array\n",
    "print(type(arr1))\n",
    "# Type of the data inside a numpy array dtype=data type\n",
    "print(arr1.dtype)"
   ]
  },
  {
   "cell_type": "markdown",
   "metadata": {},
   "source": [
    "### TRY IT\n",
    "Create an array from the list [0,1,2] and print out it's dtype"
   ]
  },
  {
   "cell_type": "code",
   "execution_count": null,
   "metadata": {
    "collapsed": true
   },
   "outputs": [],
   "source": []
  },
  {
   "cell_type": "markdown",
   "metadata": {},
   "source": [
    "### Datatype options\n",
    "*Choose your datatype based on how large the largest values could be, and how much memory you expect to use*\n",
    "\n",
    "* **bool_**\t- Boolean (True or False) stored as a byte\n",
    "* **int_** - Default integer type (same as C long; normally either int64 or int32)\n",
    "* **int8** - Byte (-128 to 127)\n",
    "* **int16** - Integer (-32768 to 32767)\n",
    "* **int32** - Integer (-2147483648 to 2147483647)\n",
    "* **int64** - Integer (-9223372036854775808 to 9223372036854775807)\n",
    "* **uint8** - Unsigned integer (0 to 255)\n",
    "* **uint16** - Unsigned integer (0 to 65535)\n",
    "* **uint32** - Unsigned integer (0 to 4294967295)\n",
    "* **uint64** - Unsigned integer (0 to 18446744073709551615)\n",
    "* **float_** - Shorthand for float64.\n",
    "* **float16** - Half precision float: sign bit, 5 bits exponent, 10 bits mantissa\n",
    "* **float32** - Single precision float: sign bit, 8 bits exponent, 23 bits mantissa\n",
    "* **float64** - Double precision float: sign bit, 11 bits exponent, 52 bits mantissa\n",
    "* **complex_** - Shorthand for complex128.\n",
    "* **complex64** - Complex number, represented by two 32-bit floats (real and imaginary components)\n",
    "* **complex128** - Complex number, represented by two 64-bit floats (real and imaginary components)"
   ]
  },
  {
   "cell_type": "markdown",
   "metadata": {},
   "source": [
    "### Creating Arrays\n",
    "There are many other ways to create NumPy arrays, such as `np.identity`, `np.zeros`, `np.zeros_like`, `np.ones`, `np.ones_like`"
   ]
  },
  {
   "cell_type": "code",
   "execution_count": null,
   "metadata": {
    "collapsed": false
   },
   "outputs": [],
   "source": [
    "print('2 rows, 3 columns of zeros:\\n', np.zeros((2,3)))\n",
    "print('4x4 identity matrix:\\n', np.identity(4))\n",
    "squared = []\n",
    "for x in range(5):\n",
    "    squared.append(x**2)\n",
    "print(squared)\n",
    "a = np.array(squared)\n",
    "b = np.zeros_like(a)\n",
    "\n",
    "print('a:\\n', a)\n",
    "print('b:\\n', b)"
   ]
  },
  {
   "cell_type": "markdown",
   "metadata": {},
   "source": [
    "These arrays have attributes, like `.ndim` and `.shape` that tell us about the number and length of the dimensions.\n",
    "\n",
    "The dimension of an array is the number of indices needed to select an element. Thus, if the array is seen as a function on a set of possible index combinations, it is the dimension of the space of which its domain is a discrete subset. Thus a one-dimensional array is a list of data, a two-dimensional array a rectangle of data, a three-dimensional array a block of data, etc.\n",
    "\n",
    "The shape is the number of elements in each dimension of data"
   ]
  },
  {
   "cell_type": "code",
   "execution_count": null,
   "metadata": {
    "collapsed": false
   },
   "outputs": [],
   "source": [
    "c = np.ones((15, 30))\n",
    "print('number of dimensions of c:', c.ndim)\n",
    "print('length of c in each dimension:', c.shape)\n",
    "\n",
    "x = np.array([[[1,2,3],[4,5,6],[7,8,9]] , [[0,0,0],[0,0,0],[0,0,0]]])\n",
    "print('number of dimensions of x:', x.ndim)\n",
    "print('length of x in each dimension:', x.shape)"
   ]
  },
  {
   "cell_type": "markdown",
   "metadata": {},
   "source": [
    "NumPy has its own `range()` function, `np.arange()` (stands for array-range), that is more efficient for building larger arrays.  It functions in much the same way as `range()`.\n",
    "\n",
    "NumPy also has `linspace()` and `logspace()`, that can generate equally spaced samples between a start-point and an end-point.  Find out more with `np.linspace?`."
   ]
  },
  {
   "cell_type": "code",
   "execution_count": null,
   "metadata": {
    "collapsed": false
   },
   "outputs": [],
   "source": [
    "print(\"Arange\")\n",
    "print(np.arange(5))\n",
    "\n",
    "# Args: start, stop, number of elements\n",
    "print(\"Linspace\")\n",
    "print(np.linspace(5, 10, 5))\n",
    "\n",
    "# logspace can also take a base argument, by default it is 10\n",
    "print(\"Logspace\")\n",
    "print(np.logspace(0, 1, 5))\n",
    "print(np.logspace(0, 1, 5, base=2))"
   ]
  },
  {
   "cell_type": "markdown",
   "metadata": {},
   "source": [
    "### TRY IT\n",
    "Create a numpy array with 8 rows and 50 columns of 0's"
   ]
  },
  {
   "cell_type": "code",
   "execution_count": null,
   "metadata": {
    "collapsed": false
   },
   "outputs": [],
   "source": []
  },
  {
   "cell_type": "markdown",
   "metadata": {},
   "source": [
    "### Creating numpy arrays from text files\n",
    "You can use loadtxt to load data from a text file (csv or tab-delimited data)"
   ]
  },
  {
   "cell_type": "code",
   "execution_count": null,
   "metadata": {
    "collapsed": false
   },
   "outputs": [],
   "source": [
    "np.loadtxt?"
   ]
  },
  {
   "cell_type": "markdown",
   "metadata": {},
   "source": [
    "The simplest way to use it is to just give it a file name. By default, your data will be loaded as floats with whitespace being the delimiter\n",
    "\n",
    "my_arr = np.loadtxt('myfile.txt')\n",
    "\n",
    "More likely you will need to use some of the keyword arguments. like `dtype`, `delimiter`, `skiprows`, or `usecols` Docs available here: http://docs.scipy.org/doc/numpy/reference/generated/numpy.loadtxt.html\n",
    "\n",
    "my_array = loadtxt('myfile.csv', usecols=[1,2,3,4,5,6,7,8,9,10,11,12], delimiter=',')"
   ]
  },
  {
   "cell_type": "code",
   "execution_count": null,
   "metadata": {
    "collapsed": false
   },
   "outputs": [],
   "source": [
    "np.loadtxt('simple.csv', delimiter=',')"
   ]
  },
  {
   "cell_type": "markdown",
   "metadata": {},
   "source": [
    "### TRY IT\n",
    "Load the file 'example.tsv' a tab delimited file. Once you have that working, only load the odd numbered columns (1,3,5)."
   ]
  },
  {
   "cell_type": "code",
   "execution_count": null,
   "metadata": {
    "collapsed": false
   },
   "outputs": [],
   "source": []
  },
  {
   "cell_type": "markdown",
   "metadata": {},
   "source": [
    "## Arithmetic with ndarrays\n",
    "\n",
    "Standard arithmetic operators perform element-wise operations on arrays of the same size."
   ]
  },
  {
   "cell_type": "code",
   "execution_count": null,
   "metadata": {
    "collapsed": false
   },
   "outputs": [],
   "source": [
    "A = np.arange(5)\n",
    "B = np.arange(5, 10)\n",
    "\n",
    "print('A', A)\n",
    "print('B', B)\n",
    "\n",
    "print('A+B', A+B)\n",
    "print('B-A', B-A)\n",
    "print('A*B', A*B)"
   ]
  },
  {
   "cell_type": "markdown",
   "metadata": {},
   "source": [
    "In addition, if one of the arguments is a scalar, that value will be applied to all the elements of the array.\n",
    "\n",
    "**scalar** - a quantity possessing only magnitude. (In this case we mean a single number either an int or a float)"
   ]
  },
  {
   "cell_type": "code",
   "execution_count": null,
   "metadata": {
    "collapsed": false
   },
   "outputs": [],
   "source": [
    "A = np.arange(5)\n",
    "print('A', A)\n",
    "print('A+10', A+10)\n",
    "print('2 * A', 2*A)\n",
    "print('A ** 2', A**2)"
   ]
  },
  {
   "cell_type": "markdown",
   "metadata": {},
   "source": [
    "### Linear algebra with arrays\n",
    "\n",
    "You can use arrays as vectors and matrices in linear algebra operations\n",
    "\n",
    "Specifically, you can perform matrix/vector multiplication between arrays, by using the .dot method, or the np.dot function\n",
    "\n",
    "**dot product** - the dot product between two vectors is based on the projection of one vector onto another."
   ]
  },
  {
   "cell_type": "code",
   "execution_count": null,
   "metadata": {
    "collapsed": false
   },
   "outputs": [],
   "source": [
    "print(A.dot(B))\n",
    "print(np.dot(A, B))"
   ]
  },
  {
   "cell_type": "markdown",
   "metadata": {},
   "source": [
    "If you are planning on doing serious linear algebra, you might be better off using the np.matrix object instead of np.array."
   ]
  },
  {
   "cell_type": "markdown",
   "metadata": {},
   "source": [
    "### Numpy 'gotchas'\n",
    "**Multiplication and Addition**\n",
    "\n",
    "As you may have noticed above, since NumPy arrays are modeled more closely after vectors and matrices, multiplying by a scalar will multiply each element of the array, whereas multiplying a list by a scalar will repeat that list N times."
   ]
  },
  {
   "cell_type": "code",
   "execution_count": null,
   "metadata": {
    "collapsed": false
   },
   "outputs": [],
   "source": [
    "# Numpy arrays\n",
    "A = np.arange(5)*2\n",
    "print(A)\n",
    "# Lists\n",
    "B = list(range(5))*2\n",
    "print(B)"
   ]
  },
  {
   "cell_type": "markdown",
   "metadata": {},
   "source": [
    "Similarly, when adding two numpy arrays together, we get the vector sum back, whereas when adding two lists together, we get the concatenation back."
   ]
  },
  {
   "cell_type": "code",
   "execution_count": null,
   "metadata": {
    "collapsed": false
   },
   "outputs": [],
   "source": [
    "# Numpy arrays\n",
    "A = np.arange(5) + np.arange(5)\n",
    "print(A)\n",
    "# Lists\n",
    "B = list(range(5)) + list(range(5))\n",
    "print(B)"
   ]
  },
  {
   "cell_type": "markdown",
   "metadata": {},
   "source": [
    "### Boolean operators work on arrays too, and they return boolean arrays\n",
    "Much like the basic arithmetic operations we discussed above, comparison operations are performed element-wise. That is, rather than returning a\n",
    "single boolean, comparison operators compare each element in both arrays pairwise, and return an `array` of booleans (if the sizes of the input\n",
    "arrays are incompatible, the comparison will simply return False). For example:"
   ]
  },
  {
   "cell_type": "code",
   "execution_count": null,
   "metadata": {
    "collapsed": false
   },
   "outputs": [],
   "source": [
    "arr1 = np.array([1, 2, 3, 4, 5])\n",
    "arr2 = np.array([1, 1, 3, 3, 5])\n",
    "print(arr1 == arr2)\n",
    "c = (arr1 == arr2)\n",
    "print(type(c))\n",
    "print(c.dtype)"
   ]
  },
  {
   "cell_type": "markdown",
   "metadata": {},
   "source": [
    "You can get a portion of an array by using a boolean array as the index. It will return an array where only true values are returned"
   ]
  },
  {
   "cell_type": "code",
   "execution_count": null,
   "metadata": {
    "collapsed": false
   },
   "outputs": [],
   "source": [
    "print(arr1)\n",
    "print(c)\n",
    "print(arr1[c])"
   ]
  },
  {
   "cell_type": "markdown",
   "metadata": {},
   "source": [
    "Note: You can use the methods `.any()` and `.all()` or the functions `np.any` and `np.all` to return a single boolean indicating whether any or all values in the array are `True`, respectively."
   ]
  },
  {
   "cell_type": "code",
   "execution_count": null,
   "metadata": {
    "collapsed": false
   },
   "outputs": [],
   "source": [
    "print(np.all(c))\n",
    "print(c.all())\n",
    "print(c.any())"
   ]
  },
  {
   "cell_type": "markdown",
   "metadata": {},
   "source": [
    "### TRY IT\n",
    "Create a boolean array for arr1 for where values are >= 3"
   ]
  },
  {
   "cell_type": "code",
   "execution_count": null,
   "metadata": {
    "collapsed": true
   },
   "outputs": [],
   "source": []
  },
  {
   "cell_type": "markdown",
   "metadata": {},
   "source": [
    "### Views vs. Copies\n",
    "\n",
    "In order to be as efficient as possible, numpy uses \"views\" instead of copies wherever possible. That is, numpy arrays derived from another base array generally refer to the ''exact same data'' as the base array. The consequence of this is that modification of these derived arrays will also modify the base array. The result of an array indexed by an array of indices is a ''copy'', but an array indexed by an array of booleans is a ''view''. \n",
    "\n",
    "Specifically, slices of arrays are always views, unlike slices of lists or tuples, which are always copies."
   ]
  },
  {
   "cell_type": "code",
   "execution_count": null,
   "metadata": {
    "collapsed": false
   },
   "outputs": [],
   "source": [
    "A = np.arange(5)\n",
    "B = A[0:1]\n",
    "B[0] = 42\n",
    "print(A)\n",
    "\n",
    "A = list(range(5))\n",
    "B = A[0:1]\n",
    "B[0] = 42\n",
    "print(A)"
   ]
  },
  {
   "cell_type": "markdown",
   "metadata": {},
   "source": [
    "### Indexing arrays\n",
    "\n",
    "In addition to the usual methods of indexing lists with an integer (or with a series of colon-separated integers for a slice), numpy allows you\n",
    "to index arrays in a wide variety of different ways for more advanced operations.\n",
    "\n",
    "First, the simple way:"
   ]
  },
  {
   "cell_type": "code",
   "execution_count": null,
   "metadata": {
    "collapsed": false
   },
   "outputs": [],
   "source": [
    "a = np.array([1,2,3])\n",
    "print(a[0:2])"
   ]
  },
  {
   "cell_type": "markdown",
   "metadata": {},
   "source": [
    "How can we index if the array has more than one dimension? "
   ]
  },
  {
   "cell_type": "code",
   "execution_count": null,
   "metadata": {
    "collapsed": false
   },
   "outputs": [],
   "source": [
    "c = np.random.rand(3,3)\n",
    "print(c)\n",
    "print(c[1:3,0:2])\n",
    "print(a)\n",
    "c[0,:] = a\n",
    "print(c)"
   ]
  },
  {
   "cell_type": "markdown",
   "metadata": {
    "collapsed": true
   },
   "source": [
    "### TRY IT\n",
    "Create a random 4x4 array, print out the second row, second column."
   ]
  },
  {
   "cell_type": "code",
   "execution_count": null,
   "metadata": {
    "collapsed": true
   },
   "outputs": [],
   "source": []
  }
 ],
 "metadata": {
  "kernelspec": {
   "display_name": "Python 3",
   "language": "python",
   "name": "python3"
  },
  "language_info": {
   "codemirror_mode": {
    "name": "ipython",
    "version": 3
   },
   "file_extension": ".py",
   "mimetype": "text/x-python",
   "name": "python",
   "nbconvert_exporter": "python",
   "pygments_lexer": "ipython3",
   "version": "3.5.2"
  }
 },
 "nbformat": 4,
 "nbformat_minor": 0
}
