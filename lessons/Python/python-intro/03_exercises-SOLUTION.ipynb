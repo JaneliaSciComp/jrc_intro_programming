{
 "cells": [
  {
   "cell_type": "markdown",
   "metadata": {},
   "source": [
    "# Longer Exercise: Convert genotypes\n",
    "If most of this material is brand new to you, your goal is to complete Part 1. If you are more experienced, please move on to Part 2 and Part 3. And don't forget to talk to your neighbor!"
   ]
  },
  {
   "cell_type": "markdown",
   "metadata": {},
   "source": [
    "### Motivation:\n",
    "A biologist is interested in the genetic basis of height. She measures the heights of many subjects and sends off their DNA samples to a core for genotyping arrays. These arrays determine the DNA bases at the variable sites of the genome (known as single nucleotide polymorphisms, or SNPs). Since humans are diploid, i.e. have two of each chromosome, each data point will be two DNA bases corresponding to the two chromosomes in each individual. At each SNP, there will be only three possible genotypes, e.g. AA, AG, GG for an A/G SNP. In order to test the correlation between a SNP genotype and height, she wants to perform a regression with an additive genetic model. However, she cannot do this with the data in the current form. She needs to convert the genotypes, e.g. AA, AG, and GG, to the numbers 0, 1, and 2, respectively (in the example the number corresponds the number of G bases the person has at that SNP). Since she has too much data to do this manually, e.g. in Excel, she comes to you for ideas of how to efficiently transform the data."
   ]
  },
  {
   "cell_type": "markdown",
   "metadata": {},
   "source": [
    "## Part 1:\n",
    "Create a new list which has the converted genotype for each subject ('AA' -> 0, 'AG' -> 1, 'GG' -> 2)."
   ]
  },
  {
   "cell_type": "code",
   "execution_count": null,
   "metadata": {
    "collapsed": false
   },
   "outputs": [],
   "source": [
    "genos = ['AA', 'GG', 'AG', 'AG', 'GG']\n",
    "genos_new = []  # define an empty list.  Your code needs to fill in the values.\n",
    "# Your code goes here\n",
    "for geno in genos:\n",
    "    if geno == 'AA':\n",
    "        genos_new.append(0)\n",
    "    elif geno == 'AG':\n",
    "        genos_new.append(1)\n",
    "    elif geno == 'GG':\n",
    "        genos_new.append(2)"
   ]
  },
  {
   "cell_type": "markdown",
   "metadata": {},
   "source": [
    "Check your work:"
   ]
  },
  {
   "cell_type": "code",
   "execution_count": null,
   "metadata": {
    "collapsed": false
   },
   "outputs": [],
   "source": [
    "genos_new == [0, 2, 1, 1, 2]"
   ]
  },
  {
   "cell_type": "markdown",
   "metadata": {},
   "source": [
    "## Part 2:\n",
    "Sometimes there are errors and the genotype cannot be determined. Adapt your code from above to deal with this problem (in this example missing data is assigned NA for \"Not Available\").  **Note: the input and output variables have different names \n",
    "here and in the previous exercise.  Don't read from `genos_new`.**"
   ]
  },
  {
   "cell_type": "code",
   "execution_count": null,
   "metadata": {
    "collapsed": false
   },
   "outputs": [],
   "source": [
    "genos_w_missing = ['AA', 'NA', 'GG', 'AG', 'AG', 'GG', 'NA']\n",
    "genos_w_missing_new = []   # define an empty list.  Your code needs to fill in the values.\n",
    "# The missing data should not be converted to a number, but remain 'NA' in the new list\n",
    "# Your code here\n",
    "for geno in genos_w_missing:\n",
    "    if geno == 'AA':\n",
    "        genos_w_missing_new.append(0)\n",
    "    elif geno == 'AG':\n",
    "        genos_w_missing_new.append(1)\n",
    "    elif geno == 'GG':\n",
    "        genos_w_missing_new.append(2)\n",
    "    # I could use another elif geno=='NA' but when I use an else\n",
    "    # that let's me catch other errors in the file too.\n",
    "    # You can choose what is right for your situation.\n",
    "    else:\n",
    "        genos_w_missing_new.append(geno)\n",
    "print(genos_w_missing_new)"
   ]
  },
  {
   "cell_type": "markdown",
   "metadata": {},
   "source": [
    "Check your work:"
   ]
  },
  {
   "cell_type": "code",
   "execution_count": null,
   "metadata": {
    "collapsed": false
   },
   "outputs": [],
   "source": [
    "genos_w_missing_new == [0, 'NA', 2, 1, 1, 2, 'NA']"
   ]
  },
  {
   "cell_type": "markdown",
   "metadata": {},
   "source": [
    "## Part 3:\n",
    "The file genos.txt has a column of genotypes. Read in the data and convert the genotypes as above. Hint: You'll need to use the built-in string method strip to remove the new-line characters (See the example of reading in a file above. We will cover string methods in the next section)."
   ]
  },
  {
   "cell_type": "code",
   "execution_count": null,
   "metadata": {
    "collapsed": false
   },
   "outputs": [],
   "source": [
    "# Store the genotypes from genos.txt in this list\n",
    "genos_from_file = []\n",
    "with open('genos.txt') as fh:\n",
    "    for line in fh:\n",
    "        geno = line.rstrip()\n",
    "        if geno == 'AA':\n",
    "            genos_from_file.append(0)\n",
    "        elif geno == 'AG':\n",
    "            genos_from_file.append(1)\n",
    "        elif geno == 'GG':\n",
    "            genos_from_file.append(2)\n",
    "        else:\n",
    "\n",
    "            genos_from_file.append(geno)"
   ]
  },
  {
   "cell_type": "markdown",
   "metadata": {},
   "source": [
    "Check your work:"
   ]
  },
  {
   "cell_type": "code",
   "execution_count": null,
   "metadata": {
    "collapsed": false
   },
   "outputs": [],
   "source": [
    "genos_from_file[:15] == [2, 2, 1, 1, 0, 0, 2, 2, 2, 0, 'NA', 1, 0, 0, 2]"
   ]
  },
  {
   "cell_type": "code",
   "execution_count": null,
   "metadata": {
    "collapsed": true
   },
   "outputs": [],
   "source": []
  }
 ],
 "metadata": {
  "kernelspec": {
   "display_name": "Python 3",
   "language": "python",
   "name": "python3"
  },
  "language_info": {
   "codemirror_mode": {
    "name": "ipython",
    "version": 3
   },
   "file_extension": ".py",
   "mimetype": "text/x-python",
   "name": "python",
   "nbconvert_exporter": "python",
   "pygments_lexer": "ipython3",
   "version": "3.5.2"
  }
 },
 "nbformat": 4,
 "nbformat_minor": 0
}
