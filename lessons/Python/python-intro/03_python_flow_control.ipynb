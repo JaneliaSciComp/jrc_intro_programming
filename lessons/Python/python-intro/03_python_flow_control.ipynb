{
 "cells": [
  {
   "cell_type": "markdown",
   "metadata": {},
   "source": [
    "# Python: Flow Control"
   ]
  },
  {
   "cell_type": "markdown",
   "metadata": {},
   "source": [
    "Materials by: John Blischak and other Software Carpentry instructors (Joshua R. Smith, Milad Fatenejad, Katy Huff, Tommy Guy, Anthony Scopatz, Billy Rowell, and many more)"
   ]
  },
  {
   "cell_type": "markdown",
   "metadata": {},
   "source": [
    "# Truth\n",
    "\n",
    "Python has reserved words for booleans: `True` and `False`"
   ]
  },
  {
   "cell_type": "code",
   "execution_count": null,
   "metadata": {
    "collapsed": false
   },
   "outputs": [],
   "source": [
    "print(\"True:\", True) # 'True' always evaluates to True\n",
    "print(\"False:\", False) # 'False' always evaluates to False\n",
    "print(type(True))"
   ]
  },
  {
   "cell_type": "markdown",
   "metadata": {},
   "source": [
    "We can combine booleans with the reserved keywords `and`, `or` and `not`.\n",
    "\n",
    "The combined truth table looks like this:"
   ]
  },
  {
   "cell_type": "raw",
   "metadata": {},
   "source": [
    "and Truth table  (only true if both values are true)\n",
    "val1  |  val2  |  val1 and val2\n",
    "true  |  true  |  true\n",
    "true  |  false |  false\n",
    "false |  true  |  false\n",
    "false |  false |  false\n",
    "\n",
    "or  Truth table  (true if at least 1 value is true)\n",
    "val1  |  val2  |  val1 or val2\n",
    "true  |  true  |  true\n",
    "true  |  false |  true\n",
    "false |  true  |  true\n",
    "false |  false |  false\n",
    "\n",
    "not Truth table (the opposite of the value)\n",
    "val1  |  not val1\n",
    "true  |  false\n",
    "false |  true"
   ]
  },
  {
   "cell_type": "markdown",
   "metadata": {},
   "source": [
    "The `and` keyword checks to see whether _both_ expressions are `True`."
   ]
  },
  {
   "cell_type": "code",
   "execution_count": null,
   "metadata": {
    "collapsed": false
   },
   "outputs": [],
   "source": [
    "print(\"True and True:\", True and True)\n",
    "print(\"True and False:\", True and False)\n",
    "print(\"False and True:\", False and True)\n",
    "print(\"False and False:\", False and False)"
   ]
  },
  {
   "cell_type": "markdown",
   "metadata": {},
   "source": [
    "The `or` keyword checks to see whether _either_ expression is `True`."
   ]
  },
  {
   "cell_type": "code",
   "execution_count": null,
   "metadata": {
    "collapsed": false
   },
   "outputs": [],
   "source": [
    "print(\"True or True:\", True or True)\n",
    "print(\"True or False:\", True or False)\n",
    "print(\"False or True:\", False or True)\n",
    "print(\"False or False:\", False or False)"
   ]
  },
  {
   "cell_type": "markdown",
   "metadata": {},
   "source": [
    "Finally, you can negate a boolean with the `not` keyword."
   ]
  },
  {
   "cell_type": "code",
   "execution_count": null,
   "metadata": {
    "collapsed": false
   },
   "outputs": [],
   "source": [
    "print(\"not True:\", not True)\n",
    "print(\"not False:\", not False)"
   ]
  },
  {
   "cell_type": "markdown",
   "metadata": {},
   "source": [
    "# Conditional expressions\n",
    "\n",
    "We can create expressions that evaluate to booleans using conditional operators: \n",
    "\n",
    "`==`, `>=`, `<=`, `>`, `<`, `!=`"
   ]
  },
  {
   "cell_type": "code",
   "execution_count": null,
   "metadata": {
    "collapsed": false
   },
   "outputs": [],
   "source": [
    "print(\"1 == 1:\", 1 == 1) # equal to\n",
    "print(\"'dog' == 'dog':\", 'dog' == 'cat')"
   ]
  },
  {
   "cell_type": "markdown",
   "metadata": {},
   "source": [
    "### Note: Syntax is important!\n",
    "\n",
    "== tests equality; = is the assignment operator"
   ]
  },
  {
   "cell_type": "code",
   "execution_count": null,
   "metadata": {
    "collapsed": false
   },
   "outputs": [],
   "source": [
    "print(\"1 = 1:\", 1 = 1)"
   ]
  },
  {
   "cell_type": "markdown",
   "metadata": {},
   "source": [
    "Test for inequality using `!=` (like ~= in MATLAB) or `not`."
   ]
  },
  {
   "cell_type": "code",
   "execution_count": null,
   "metadata": {
    "collapsed": false
   },
   "outputs": [],
   "source": [
    "print(\"1 != 1:\", 1 != 1) # not equal to\n",
    "print(\"not (1 == 1):\", not(1 == 1)) # not equal to\n",
    "print('cat' != 'dog')"
   ]
  },
  {
   "cell_type": "markdown",
   "metadata": {},
   "source": [
    "### Challenge: What's going on in the next cell?"
   ]
  },
  {
   "cell_type": "code",
   "execution_count": null,
   "metadata": {
    "collapsed": false
   },
   "outputs": [],
   "source": [
    "x = 1.2 - 1.0\n",
    "y = 0.2\n",
    "print((\"x == y:\", x == y))"
   ]
  },
  {
   "cell_type": "markdown",
   "metadata": {},
   "source": [
    "Comparing two floats is dangerous due to precision. Instead comare the absolute value (`abs`) of their difference to an epsilon value."
   ]
  },
  {
   "cell_type": "code",
   "execution_count": null,
   "metadata": {
    "collapsed": false
   },
   "outputs": [],
   "source": [
    "# Hint: Precision\n",
    "epsilon = 0.000001\n",
    "abs(x-y) < epsilon"
   ]
  },
  {
   "cell_type": "markdown",
   "metadata": {},
   "source": [
    "We can also do numerical comparisons.\n",
    "\n",
    "* >\n",
    "* <\n",
    "* \\>=\n",
    "* <="
   ]
  },
  {
   "cell_type": "code",
   "execution_count": null,
   "metadata": {
    "collapsed": false
   },
   "outputs": [],
   "source": [
    "print(\"2 > 1:\", 2 > 1)\n",
    "print(\"2 < 1:\", 2 < 1)\n",
    "print(\"2 >= 1:\", 2 >= 1)\n",
    "print(\"1 <= 2:\", 1 <= 2)"
   ]
  },
  {
   "cell_type": "markdown",
   "metadata": {},
   "source": [
    "And you can use these comparisons on strings too.\n",
    "`>, <, >=, <=` tests use lexiographical order (ascii-numerical order for ascii strings).\n",
    "You can find out more [here](http://www.asciitable.com/), but in general for strings:\n",
    "\n",
    "0-9 < UPPERCASE < lowercase"
   ]
  },
  {
   "cell_type": "code",
   "execution_count": null,
   "metadata": {
    "collapsed": false
   },
   "outputs": [],
   "source": [
    "print(\"'abc' > 'acb':\", 'abc' > 'acb')\n",
    "print(\"'Sheldon' > 'Billy':\", 'Sheldon' > 'Billy')\n",
    "\n",
    "print(\"'A' < 'a':\", 'A' < 'a')"
   ]
  },
  {
   "cell_type": "markdown",
   "metadata": {},
   "source": [
    "### TRY IT: Challenge\n",
    "How could you test (in one line) whether a variable `x` is in [0, 10)?  (Hint:  There is more than one way to do this.  Experiment. Test it for the 3 variables below.)\n",
    "\n",
    "Start with how you would do it in multiple lines of python. Also, it is not cheating to use google :)"
   ]
  },
  {
   "cell_type": "code",
   "execution_count": null,
   "metadata": {
    "collapsed": false
   },
   "outputs": [],
   "source": [
    "x = 5\n",
    "y = -5\n",
    "z = 10\n",
    "# Your code here\n"
   ]
  },
  {
   "cell_type": "markdown",
   "metadata": {},
   "source": [
    "### Note: Equality is not the same as Identity."
   ]
  },
  {
   "cell_type": "code",
   "execution_count": null,
   "metadata": {
    "collapsed": false
   },
   "outputs": [],
   "source": [
    "x = 'I really enjoy python and I plan to use it on a regular basis in the future.'\n",
    "y = 'I really enjoy python and I plan to use it on a regular basis in the future.'\n",
    "print(\"x is y:\", x is y)\n",
    "print(\"x == y:\", x == y)"
   ]
  },
  {
   "cell_type": "markdown",
   "metadata": {},
   "source": [
    "# If statements\n",
    "\n",
    "Comparisons can be used to control program behavior by placing them in an **if** statement.  Such statements have the following form:\n",
    "\n",
    "    if <condition>:\n",
    "        <indented block of code>\n",
    "\n",
    "The indented code will only be execute if the condition evaluates to `True`, which is a special Boolean value."
   ]
  },
  {
   "cell_type": "code",
   "execution_count": null,
   "metadata": {
    "collapsed": false
   },
   "outputs": [],
   "source": [
    "x = 5\n",
    "if x < 0:\n",
    "    print(\"x is negative\")"
   ]
  },
  {
   "cell_type": "code",
   "execution_count": null,
   "metadata": {
    "collapsed": false
   },
   "outputs": [],
   "source": [
    "x = -5\n",
    "if x < 0:\n",
    "    print(\"x is negative\")"
   ]
  },
  {
   "cell_type": "markdown",
   "metadata": {},
   "source": [
    "The **if** statement can be combined to great effect with a corresponding **else** clause. \n",
    "\n",
    "    if <condition>:\n",
    "        <if-block>\n",
    "    else:\n",
    "        <else-block>\n",
    "        \n",
    "When the condition is `True` the if-block is executed.  When the condition is `False` the else-block is executed instead."
   ]
  },
  {
   "cell_type": "code",
   "execution_count": null,
   "metadata": {
    "collapsed": false
   },
   "outputs": [],
   "source": [
    "x = 5\n",
    "if x < 0:\n",
    "    print(\"x is negative\")\n",
    "else:\n",
    "    print(\"x is non-negative\")"
   ]
  },
  {
   "cell_type": "markdown",
   "metadata": {},
   "source": [
    "Many cases may be tested by using the **elif** statement (short for \"else if\").  These come between all the `if` and `else` statements:\n",
    "\n",
    "    if <if-condition>:\n",
    "        <if-block>\n",
    "    elif <elif-condition>:\n",
    "        <elif-block>\n",
    "    else:\n",
    "        <else-block>\n",
    "        \n",
    "When if-condition is true then only the if-block is executed.  When elif-condition is true then only the elif-block is executed.  When neither of these are true then the else-block is executed."
   ]
  },
  {
   "cell_type": "code",
   "execution_count": null,
   "metadata": {
    "collapsed": false
   },
   "outputs": [],
   "source": [
    "x = 0\n",
    "if x < 0:\n",
    "    print(\"x is negative\")\n",
    "elif x == 0:\n",
    "    print(\"x is zero\")\n",
    "else:\n",
    "    print(\"x is positive\")"
   ]
  },
  {
   "cell_type": "markdown",
   "metadata": {},
   "source": [
    "While there must be one `if` statement, and there may be at most one `else` statement, there may be as many `elif` statements as are desired.\n",
    "\n",
    "    if <if-condition>:\n",
    "        <if-block>\n",
    "    elif <elif-condition1>:\n",
    "        <elif-block1>\n",
    "    elif <elif-condition2>:\n",
    "        <elif-block2>\n",
    "    elif <elif-condition3>:\n",
    "        <elif-block3>\n",
    "    ...\n",
    "    else:\n",
    "        <else-block>\n",
    "        \n",
    "Only the block for top most condition that is true is executed."
   ]
  },
  {
   "cell_type": "code",
   "execution_count": null,
   "metadata": {
    "collapsed": false
   },
   "outputs": [],
   "source": [
    "x = 1\n",
    "if x < 0:\n",
    "    print(\"x is negative\")\n",
    "elif x == 0:\n",
    "    print(\"x is zero\")\n",
    "elif x == 1:\n",
    "    print(\"x is one\")\n",
    "elif x == 2:\n",
    "    print(\"x is two\")\n",
    "else:\n",
    "    print(\"x is positive and is not equal to 0, 1, or 2\")"
   ]
  },
  {
   "cell_type": "markdown",
   "metadata": {},
   "source": [
    "## Aside About Indentation\n",
    "The indentation is a feature of Python syntax. Some other programming languages use brackets to denote a command block. **Python uses indentation to recognize blocks of code that are part of conditional statements and loops.**   The end of the indentation (that is, the first line that has the same indentation level as the `if`) indicates the end of the block subject to the `if`'s control.  This `if` has more than one statement in each block:"
   ]
  },
  {
   "cell_type": "code",
   "execution_count": null,
   "metadata": {
    "collapsed": false
   },
   "outputs": [],
   "source": [
    "x = -5\n",
    "if x < 0:\n",
    "    print(\"x is negative\")\n",
    "    print(\"x is still negative\")\n",
    "else:\n",
    "    print(\"x is nonnegative\")\n",
    "    print(\"x is still nonnegative\")\n",
    "print(\"But what is x?\")"
   ]
  },
  {
   "cell_type": "markdown",
   "metadata": {},
   "source": [
    "The last statement always prints, because it is not inside of either of the two indented blocks controlled by the `if`.\n",
    "\n",
    "Python will recognize an indented block as long as everything in the same block is indented the same amount.  The [Python Style Guide (PEP8)](http://www.python.org/dev/peps/pep-0008/)  recommends that you use four spaces."
   ]
  },
  {
   "cell_type": "markdown",
   "metadata": {},
   "source": [
    "## TRY IT\n",
    "Write an `if` statement that prints whether x is even or odd. \n",
    "\n",
    "Hint:  % is the **modular division operator**.  `a % b` returns the remainder after a is divided by b: "
   ]
  },
  {
   "cell_type": "code",
   "execution_count": null,
   "metadata": {
    "collapsed": false
   },
   "outputs": [],
   "source": [
    "print(3 % 2)\n",
    "print(4 % 2)\n",
    "print(5 % 2)\n",
    "print(6 % 2)"
   ]
  },
  {
   "cell_type": "code",
   "execution_count": null,
   "metadata": {
    "collapsed": false
   },
   "outputs": [],
   "source": [
    "#  Your code goes here\n"
   ]
  },
  {
   "cell_type": "markdown",
   "metadata": {},
   "source": [
    "# Truthiness"
   ]
  },
  {
   "cell_type": "markdown",
   "metadata": {},
   "source": [
    "In Python, many things can be tested as if they were booleans.\n",
    "\n",
    "#### `False`\n",
    "- empty strings ('', \"\")\n",
    "- 0 of any numerical type\n",
    "- empty lists ([])\n",
    "- empty dictionaries ({})\n",
    "- empty sets\n",
    "- the special value `None`\n",
    "\n",
    "#### `True`\n",
    "- basically, anything else\n",
    "\n",
    "This is pretty useful and makes for very pretty (and readable) code, because you can test whether a string or list is empty with a very simple `if` statement."
   ]
  },
  {
   "cell_type": "code",
   "execution_count": null,
   "metadata": {
    "collapsed": false
   },
   "outputs": [],
   "source": [
    "a = [1, 2, 3, 4]\n",
    "b = []\n",
    "\n",
    "if a:\n",
    "    print('a is not empty')\n",
    "else:\n",
    "    print('a is empty')\n",
    "    \n",
    "if b:\n",
    "    print('b is not empty')\n",
    "else:\n",
    "    print('b is empty')"
   ]
  },
  {
   "cell_type": "markdown",
   "metadata": {},
   "source": [
    "# Loops\n",
    "Loops come in two flavors: `while` and `for`.  While loops have the following structure:\n",
    "\n",
    "    while <condition>:\n",
    "        <indented block of code>\n",
    "        \n",
    "As long as the condition is `True`, the code in the block will continue to execute.  This may lead to infinitely executing loops!"
   ]
  },
  {
   "cell_type": "code",
   "execution_count": null,
   "metadata": {
    "collapsed": false
   },
   "outputs": [],
   "source": [
    "fruits = ['apples', 'oranges', 'pears', 'bananas']\n",
    "i = 0\n",
    "while i < len(fruits):\n",
    "    print(fruits[i])\n"
   ]
  },
  {
   "cell_type": "markdown",
   "metadata": {},
   "source": [
    "Wait! Don't run that (if you did, click on the Kernel menu above and select Restart).\n",
    "\n",
    "Let's fix this so that it is not an infinite loop"
   ]
  },
  {
   "cell_type": "code",
   "execution_count": null,
   "metadata": {
    "collapsed": false
   },
   "outputs": [],
   "source": [
    "fruits = ['apples', 'oranges', 'pears', 'bananas']\n",
    "i = 0\n",
    "while i < len(fruits):\n",
    "    print(fruits[i])\n",
    "    i = i + 1"
   ]
  },
  {
   "cell_type": "markdown",
   "metadata": {},
   "source": [
    "Meanwhile, for-loops have the following structure:\n",
    "\n",
    "    for <loop variable name> in <iterable>:\n",
    "         <indented block of code>\n",
    "\n",
    "Here `<loop variable name>` is the name of a **new** variable that the for loop will define on each iteration, and `<iterable>` is an object that knows how to give us its items in succession.  Lists, sets, and file handles can be iterated over like this.  The `for` loop assigns `<loop variable name>` to the first value of `<iterable>` and runs the block of code.  It then gets the next value of `<iterable>` and runs the block again until `<iterable>` is exhausted."
   ]
  },
  {
   "cell_type": "code",
   "execution_count": null,
   "metadata": {
    "collapsed": false
   },
   "outputs": [],
   "source": [
    "for item in fruits:\n",
    "    print(item)\n",
    "print(item)"
   ]
  },
  {
   "cell_type": "markdown",
   "metadata": {},
   "source": [
    "`range(6)` returns an iterator of integers from 0 to 5.\n",
    "\n",
    "**Aside** In python 2 range returns a list, but in python 3 many things that used to return lists now return iterators. What is an iterator? It allows you to go through all the elements in a sequence but only holds one element in memory at a time. If you want to turn an interator into a regular old list, just cast it as list using the `list()` function. We will be using iterators more in the next lesson."
   ]
  },
  {
   "cell_type": "code",
   "execution_count": null,
   "metadata": {
    "collapsed": false
   },
   "outputs": [],
   "source": [
    "print(list(range(6)))"
   ]
  },
  {
   "cell_type": "code",
   "execution_count": null,
   "metadata": {
    "collapsed": false
   },
   "outputs": [],
   "source": [
    "for i in range(6):\n",
    "    print(i)"
   ]
  },
  {
   "cell_type": "markdown",
   "metadata": {},
   "source": [
    "### TRY IT\n",
    "Loop through the integers from 0-20 and print them out"
   ]
  },
  {
   "cell_type": "code",
   "execution_count": null,
   "metadata": {
    "collapsed": false
   },
   "outputs": [],
   "source": []
  },
  {
   "cell_type": "markdown",
   "metadata": {},
   "source": [
    "Since `range` returns a list, we can use it to count from 0 to `len(fruits)-1`, and use these numbers to access the contents of the list `fruits`.   This loop prints both the items and their indexes."
   ]
  },
  {
   "cell_type": "code",
   "execution_count": null,
   "metadata": {
    "collapsed": false
   },
   "outputs": [],
   "source": [
    "# Use range for a range on integers\n",
    "for i in range(len(fruits)):\n",
    "    print(i, fruits[i])"
   ]
  },
  {
   "cell_type": "markdown",
   "metadata": {},
   "source": [
    "`zip` is a function that takes two lists and returns an iterator with a list of tuples.  "
   ]
  },
  {
   "cell_type": "code",
   "execution_count": null,
   "metadata": {
    "collapsed": false
   },
   "outputs": [],
   "source": [
    "fruits = ['apples', 'oranges', 'pears', 'bananas']\n",
    "prices = [0.49, 0.99, 1.49, 0.32]\n",
    "print(list(zip(fruits, prices)))"
   ]
  },
  {
   "cell_type": "markdown",
   "metadata": {},
   "source": [
    "We can use this list to go through both lists at the same time:"
   ]
  },
  {
   "cell_type": "code",
   "execution_count": null,
   "metadata": {
    "collapsed": false
   },
   "outputs": [],
   "source": [
    "# Use zip to iterate over two lists at once\n",
    "fruits = ['apples', 'oranges', 'pears', 'bananas']\n",
    "prices = [0.49, 0.99, 1.49, 0.32]\n",
    "for fruit, price in zip(fruits, prices):\n",
    "    print(fruit, \"cost\", price, \"each\")\n"
   ]
  },
  {
   "cell_type": "markdown",
   "metadata": {},
   "source": [
    "`.items()` is a method defined for dictionaries that allows us to easily iterate over key, value pairs.  It returns a list of tuples `[(key1, value1), (key2, value2)...]`"
   ]
  },
  {
   "cell_type": "code",
   "execution_count": null,
   "metadata": {
    "collapsed": false
   },
   "outputs": [],
   "source": [
    "# Use \"items\" to iterate over a dictionary\n",
    "# Note the order is non-deterministic\n",
    "prices = {'apples': 0.49, 'oranges': 0.99, 'pears': 1.49, 'bananas': 0.32}\n",
    "for fruit, price in list(prices.items()):\n",
    "    print(fruit, \"cost\", price, \"each\")"
   ]
  },
  {
   "cell_type": "markdown",
   "metadata": {},
   "source": [
    "We can even use the data to modify variables:"
   ]
  },
  {
   "cell_type": "code",
   "execution_count": null,
   "metadata": {
    "collapsed": false
   },
   "outputs": [],
   "source": [
    "# Calculating a sum\n",
    "values = [1254, 95818, 61813541, 1813, 4]\n",
    "total = 0\n",
    "for x in values:\n",
    "    total = total + x\n",
    "print(total)"
   ]
  },
  {
   "cell_type": "markdown",
   "metadata": {},
   "source": [
    "## TRY IT\n",
    "Using a loop, calculate the factorial of 7 (the product of all positive integers up to and including 7)."
   ]
  },
  {
   "cell_type": "code",
   "execution_count": null,
   "metadata": {
    "collapsed": false
   },
   "outputs": [],
   "source": []
  },
  {
   "cell_type": "markdown",
   "metadata": {},
   "source": [
    "## break, continue, and else\n",
    "\n",
    "A `break` statement causes a loop to stop iterating immediately, without finishing the current block.  It helps\n",
    "avoid infinite loops by cutting off loops when they're clearly going\n",
    "nowhere."
   ]
  },
  {
   "cell_type": "code",
   "execution_count": null,
   "metadata": {
    "collapsed": false
   },
   "outputs": [],
   "source": [
    "reasonable = 10\n",
    "for n in range(1,2000):\n",
    "    if n == reasonable:\n",
    "        break\n",
    "    print(n)"
   ]
  },
  {
   "cell_type": "markdown",
   "metadata": {},
   "source": [
    "`continue` causes the loop to skip immediately to the beginning of the next iteration,\n",
    "without completing the rest of the commands in the indented block."
   ]
  },
  {
   "cell_type": "code",
   "execution_count": null,
   "metadata": {
    "collapsed": false
   },
   "outputs": [],
   "source": [
    "reasonable = 10\n",
    "for n in range(1,20):\n",
    "    if n == reasonable:\n",
    "        continue\n",
    "    print(n)"
   ]
  },
  {
   "cell_type": "markdown",
   "metadata": {},
   "source": [
    "What is the difference between the output of these two?\n",
    "\n",
    "We can combine loops and flow control to take actions that are more complex, and that depend on the data.  First, let us define a dictionary with some names and titles, and a list with a subset of the names we will treat differently."
   ]
  },
  {
   "cell_type": "code",
   "execution_count": null,
   "metadata": {
    "collapsed": false
   },
   "outputs": [],
   "source": [
    "knights = {\"Sir Belvedere\":\"the Wise\", \n",
    "           \"Sir Lancelot\":\"the Brave\", \n",
    "           \"Sir Galahad\":\"the Pure\", \n",
    "           \"Sir Robin\":\"the Brave\", \n",
    "           \"The Black Knight\":\"John Cleese\"} # create a dict with names and titles\n",
    "favorites = list(knights.keys())     # create a list of favorites with all the knights\n",
    "favorites.remove(\"Sir Robin\") # change favorites to include all but one.\n",
    "print(knights)\n",
    "print(favorites)"
   ]
  },
  {
   "cell_type": "markdown",
   "metadata": {},
   "source": [
    "We can loop through the dict of names and titles and do one of two different things for each by putting an `if` statement inside the `for` loop:"
   ]
  },
  {
   "cell_type": "code",
   "execution_count": null,
   "metadata": {
    "collapsed": false
   },
   "outputs": [],
   "source": [
    "for name, title in list(knights.items()): \n",
    "    string = name + \", \"\n",
    "    if name in favorites:   # this returns True if any of the values in favorites match.\n",
    "        string = string + title\n",
    "    else:\n",
    "        string = string + title + \", but not quite so brave as Sir Lancelot.\" \n",
    "    print(string)"
   ]
  },
  {
   "cell_type": "markdown",
   "metadata": {},
   "source": [
    "### TRY IT\n",
    "Find the average of all of the weights of animals from the `animal_weights` dictionary below."
   ]
  },
  {
   "cell_type": "code",
   "execution_count": null,
   "metadata": {
    "collapsed": true
   },
   "outputs": [],
   "source": [
    "animal_weights = {\n",
    "    'lion': 350,\n",
    "    'monkey': 105,\n",
    "    'rabbit': 4,\n",
    "    'elephant': 2500,\n",
    "}\n",
    "\n",
    "# Your code here\n"
   ]
  },
  {
   "cell_type": "markdown",
   "metadata": {},
   "source": [
    "# Reading from a file"
   ]
  },
  {
   "cell_type": "markdown",
   "metadata": {},
   "source": [
    "To read from a file use the `open` function which takes the path to the file as the first arguement.\n",
    "This returns a filehandle which allows you to iterate through the lines of a file (separated by newline characters `\\n`).\n",
    "\n",
    "Don't forget to close the file when you are done with it. If you don't this can cause weird problems on locking filesystems. To close, run the `close()` method on your filehandle. "
   ]
  },
  {
   "cell_type": "code",
   "execution_count": null,
   "metadata": {
    "collapsed": false
   },
   "outputs": [],
   "source": [
    "my_file = open(\"example.txt\")\n",
    "for line in my_file:\n",
    "    print(line.strip())\n",
    "my_file.close()"
   ]
  },
  {
   "cell_type": "markdown",
   "metadata": {},
   "source": [
    "# Writing to a file"
   ]
  },
  {
   "cell_type": "markdown",
   "metadata": {},
   "source": [
    "To write to a file, you give open a second parameter which it the mode of the file. 'w' tells python to open the file in write mode.\n",
    "\n",
    "To write a line, run the `.write(line)` method on the file. Remember to add newline (\\n) characters, write doesn't add them automatically like print does.\n",
    "\n",
    "Finally, close your file the same way you would for reading a file."
   ]
  },
  {
   "cell_type": "code",
   "execution_count": null,
   "metadata": {
    "collapsed": true
   },
   "outputs": [],
   "source": [
    "new_file = open(\"example2.txt\", \"w\")\n",
    "lines = ['Does this lion eat ants?', 'have you confused your cat recently?', \"It's just a flesh wound!\"]\n",
    "for i in lines:\n",
    "    new_file.write(i + '\\n')\n",
    "new_file.close()"
   ]
  },
  {
   "cell_type": "markdown",
   "metadata": {},
   "source": [
    "## With syntax \n",
    "\n",
    "You can also open a file using `with` syntax. This creates a new block of code and automatically  closes the file when you drop out of that block.\n",
    "\n",
    "    with open(filename) as filehandle:\n",
    "        # do things with the file\n",
    "        \n",
    "    #File is closed when you deindent"
   ]
  },
  {
   "cell_type": "code",
   "execution_count": null,
   "metadata": {
    "collapsed": false
   },
   "outputs": [],
   "source": [
    "with open('example.txt') as my_file:\n",
    "    for line in my_file:\n",
    "        print(line.strip())"
   ]
  },
  {
   "cell_type": "code",
   "execution_count": null,
   "metadata": {
    "collapsed": true
   },
   "outputs": [],
   "source": [
    "\n",
    "lines = ['Does this lion eat ants?', 'have you confused your cat recently?', \"It's just a flesh wound!\"]\n",
    "\n",
    "with open(\"example2.txt\", \"w\") as new_file:\n",
    "    for i in lines:\n",
    "        new_file.write(i + '\\n')\n"
   ]
  },
  {
   "cell_type": "markdown",
   "metadata": {},
   "source": [
    "### TRY IT\n",
    "Open up the file called results.txt, read each line, assigned the `.strip()` line to a variable called `item` and convert `item` to a float and print `item` + 10"
   ]
  },
  {
   "cell_type": "code",
   "execution_count": null,
   "metadata": {
    "collapsed": true
   },
   "outputs": [],
   "source": []
  },
  {
   "cell_type": "markdown",
   "metadata": {},
   "source": [
    "# Bonus material: List comprehensions"
   ]
  },
  {
   "cell_type": "markdown",
   "metadata": {},
   "source": [
    "Python has another way to perform iteration called list comprehensions.  These are succinct ways to perform routine initialization or setting of variables."
   ]
  },
  {
   "cell_type": "code",
   "execution_count": null,
   "metadata": {
    "collapsed": false
   },
   "outputs": [],
   "source": [
    "# Multiply every number in a list by 2 using a for loop\n",
    "nums1 = [5, 1, 3, 10]\n",
    "nums2 = []\n",
    "for i in range(len(nums1)):\n",
    "    nums2.append(nums1[i] * 2)\n",
    "    \n",
    "print(nums2)"
   ]
  },
  {
   "cell_type": "code",
   "execution_count": null,
   "metadata": {
    "collapsed": false
   },
   "outputs": [],
   "source": [
    "# Multiply every number in a list by 2 using a list comprehension\n",
    "nums2 = [x * 2 for x in nums1]\n",
    "\n",
    "print(nums2)"
   ]
  },
  {
   "cell_type": "code",
   "execution_count": null,
   "metadata": {
    "collapsed": false
   },
   "outputs": [],
   "source": [
    "# Multiply every number in a list by 2, but only if the number is greater than 4\n",
    "nums1 = [5, 1, 3, 10]\n",
    "nums2 = []\n",
    "for i in range(len(nums1)):\n",
    "    if nums1[i] > 4:\n",
    "        nums2.append(nums1[i] * 2)\n",
    "    \n",
    "print(nums2)"
   ]
  },
  {
   "cell_type": "code",
   "execution_count": null,
   "metadata": {
    "collapsed": false
   },
   "outputs": [],
   "source": [
    "# And using a list comprehension\n",
    "nums2 = [x * 2 for x in nums1 if x > 4]\n",
    "\n",
    "print(nums2)"
   ]
  }
 ],
 "metadata": {
  "kernelspec": {
   "display_name": "Python 3",
   "language": "python",
   "name": "python3"
  },
  "language_info": {
   "codemirror_mode": {
    "name": "ipython",
    "version": 3
   },
   "file_extension": ".py",
   "mimetype": "text/x-python",
   "name": "python",
   "nbconvert_exporter": "python",
   "pygments_lexer": "ipython3",
   "version": "3.5.2"
  }
 },
 "nbformat": 4,
 "nbformat_minor": 0
}
