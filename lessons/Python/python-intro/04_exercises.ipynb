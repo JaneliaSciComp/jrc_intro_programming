{
 "cells": [
  {
   "cell_type": "markdown",
   "metadata": {},
   "source": [
    "# 1. Transcribe DNA to RNA\n",
    "### Motivation:\n",
    "During transcription, an enzyme called RNA Polymerase reads the DNA sequence and creates a complementary RNA sequence. Furthermore, RNA has the nucleotide uracil (U) instead of thymine (T). \n",
    "### Task:\n",
    "Write a function that mimics transcription. The input argument is a string that contains the letters A, T, G, and C. Create a new string following these rules: \n",
    "\n",
    "* Convert A to U\n",
    "\n",
    "* Convert T to A\n",
    "\n",
    "* Convert G to C\n",
    "\n",
    "* Convert C to G\n",
    "\n",
    "Hint: You can iterate through characters in a string using a for loop similarly to how you loop through a list."
   ]
  },
  {
   "cell_type": "code",
   "execution_count": null,
   "metadata": {
    "collapsed": true
   },
   "outputs": [],
   "source": [
    "def transcribe(seq):\n",
    "    \"\"\"Write your docstring here.\n",
    "    \"\"\""
   ]
  },
  {
   "cell_type": "markdown",
   "metadata": {},
   "source": [
    "Check your work"
   ]
  },
  {
   "cell_type": "code",
   "execution_count": null,
   "metadata": {
    "collapsed": false
   },
   "outputs": [],
   "source": [
    "transcribe('ATGC') == 'UACG'"
   ]
  },
  {
   "cell_type": "code",
   "execution_count": null,
   "metadata": {
    "collapsed": true
   },
   "outputs": [],
   "source": [
    "transcribe('ATGCAGTCAGTGCAGTCAGT') == 'UACGUCAGUCACGUCAGUCA'"
   ]
  },
  {
   "cell_type": "markdown",
   "metadata": {},
   "source": [
    "# 2. Point Mutate DNA\n",
    "\n",
    "### Motivation\n",
    "A point mutation is a Single Nucleotide Polymorphism (SNP) where one base in DNA is mutated \"randomly\" to another.\n",
    "\n",
    "### Task\n",
    "Write a function `point_mutate` that replicates point mutation. Select random single base pair in a sequence of DNA, mutate that base to a random choice from the other base pairs 'A', 'T', 'C', or 'G'.\n",
    "\n",
    "To do this you will need to use the `random` module https://docs.python.org/2/library/random.html \n",
    "\n",
    "Here are some selected methods from the `random` module.\n",
    "\n",
    "    random.random()\n",
    "        Return the next random floating point number in the range [0.0, 1.0).\n",
    "    \n",
    "    random.randint(a, b) \n",
    "        Return a random integer N such that a <= N <= b.\n",
    "        \n",
    "    random.choice(seq)\n",
    "        Return a random element from the non-empty sequence seq. If seq is empty, raises IndexError."
   ]
  },
  {
   "cell_type": "code",
   "execution_count": null,
   "metadata": {
    "collapsed": true
   },
   "outputs": [],
   "source": [
    "# Your code here"
   ]
  },
  {
   "cell_type": "markdown",
   "metadata": {},
   "source": [
    "Check your work"
   ]
  },
  {
   "cell_type": "code",
   "execution_count": null,
   "metadata": {
    "collapsed": true
   },
   "outputs": [],
   "source": [
    "point_mutate('ATCG') != 'ATCG'\n",
    "point_mutate('ATGCAGTCAGTGCAGTCAGT') != 'ATGCAGTCAGTGCAGTCAGT'\n",
    "\n",
    "# Checks that there is at most 1 mutation\n",
    "dna_to_test = 'CCCAAAGGGTTT'\n",
    "mutated_dna = point_mutate(dna_to_test)\n",
    "mutation_count = 0\n",
    "for i in range(len(dna_to_test)):\n",
    "    if dna_to_test[i] != mutated_dna[i]:\n",
    "        mutation_count += 1\n",
    "mutation_count == 1"
   ]
  }
 ],
 "metadata": {
  "kernelspec": {
   "display_name": "Python 2",
   "language": "python",
   "name": "python2"
  },
  "language_info": {
   "codemirror_mode": {
    "name": "ipython",
    "version": 2
   },
   "file_extension": ".py",
   "mimetype": "text/x-python",
   "name": "python",
   "nbconvert_exporter": "python",
   "pygments_lexer": "ipython2",
   "version": "2.7.11"
  }
 },
 "nbformat": 4,
 "nbformat_minor": 0
}
