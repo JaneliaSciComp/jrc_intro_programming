{
 "cells": [
  {
   "cell_type": "markdown",
   "metadata": {
    "slideshow": {
     "slide_type": "slide"
    }
   },
   "source": [
    "Vectorization Part 2 : Intermediate examples\n",
    "----\n",
    "\n",
    "We continue our exploration of vectorization with slightly longer and more \"real life\" examples."
   ]
  },
  {
   "cell_type": "code",
   "execution_count": null,
   "metadata": {
    "collapsed": false
   },
   "outputs": [],
   "source": [
    "%pylab inline"
   ]
  },
  {
   "cell_type": "code",
   "execution_count": null,
   "metadata": {
    "collapsed": false,
    "slideshow": {
     "slide_type": "subslide"
    }
   },
   "outputs": [],
   "source": [
    "import numpy as np\n",
    "\n",
    "# We start with the idea of shifting indices to facilitate certain vectorized operations.\n",
    "\n",
    "xs = np.arange(10)\n",
    "print \"Original with 10 elements   \", xs\n",
    "\n",
    "# we can take different slices of xs using the numpy index notation\n",
    "# this is very cheap since numpy does not make a copy of the data\n",
    "\n",
    "center = xs[1:-1]\n",
    "left = xs[:-2]\n",
    "right = xs[2:]\n",
    "\n",
    "print \"Left slice with 8 elements  \", left\n",
    "print \"Center slice with 8 elements\", center\n",
    "print \"Right slice with 8 elements \", right"
   ]
  },
  {
   "cell_type": "code",
   "execution_count": null,
   "metadata": {
    "collapsed": false
   },
   "outputs": [],
   "source": [
    "# Suppose we want to find the average value in a 3-window\n",
    "# For a 10 element vector, there will only be 8 average values, since \n",
    "# the first entry has no left neighbor and the last entry has no right neighbor\n",
    "# We can do this in a nested for loop\n",
    "avg1 = []\n",
    "for i in range(1, len(xs)-1): # loop over 8 elements of xs excluding first and last entry\n",
    "    s = 0\n",
    "    for j in range(i-1, i+2): # loop over 3 window consisting of current position and left and right neighbors\n",
    "        s += xs[j]\n",
    "    avg1.append(s/3.0)\n",
    "print \"3 window average using double loop                    \", np.array(avg1)"
   ]
  },
  {
   "cell_type": "code",
   "execution_count": null,
   "metadata": {
    "collapsed": false
   },
   "outputs": [],
   "source": [
    "# this is faster and more elegant with vectorized operations using sliced views\n",
    "# in essence we overlay the left, center and right views, then add columns using vectorized operation\n",
    "# to find the sum of each overlapping 3 window, finally dividing by3 (another vectorized operation) \n",
    "# to get the average\n",
    "# Recall from above that:\n",
    "#\n",
    "# Original with 10 elements    [0 1 2 3 4 5 6 7 8 9]\n",
    "# \n",
    "# Left slice with 8 elements   [0 1 2 3 4 5 6 7]\n",
    "# Center slice with 8 elements [1 2 3 4 5 6 7 8]\n",
    "# Right slice with 8 elements  [2 3 4 5 6 7 8 9]\n",
    "# So the first vertical sum is 0+1+2 that is, the sum of the first 3 window, \n",
    "# the second vertical sum is 1+2+3 (second shifting 3 window), and so on.\n",
    "\n",
    "avg2 = (left + center + right)/3.0\n",
    "print \"3 window average using vector addditon of sliced views\", np.array(avg2)"
   ]
  },
  {
   "cell_type": "markdown",
   "metadata": {
    "slideshow": {
     "slide_type": "slide"
    }
   },
   "source": [
    "### Example: Finding AT rich sections in a DNA string\n",
    "\n",
    "Some applications of vectorization are not as obvious as the examples above. In the next example, we want to scan a single stranded DNA string of length n consisting of the nucleotides 'A', 'C', 'T' and 'G' to look for segments of fixed length k where A and T are most over-represented. We can do this by simply counting the number of 'A' and 'T' is shifting windows of size k. The naive version counts A and T for a window, then shifts the window by 1 position and repeats in a loop. The fast version uses k-1 shifted views of a numpy array and sums over the k views (including unshifted). Since k is usually much smaller than n, this is much more efficient than the naive version. We compare the times taken to the built-in numpy function `convolve` - the naive version is 40x slower than convolve for our example, while the vectorized version is just under 2x slower.\n",
    "\n",
    "To be more concrete, suppose we have a DNA string\n",
    "\n",
    "CTAGAATCGCGACCCTAGTGGCAATCTTAAGGT\n",
    "\n",
    "and we want to count the number of 'A' or 'T'' bases in a window of length 5. The first few windws are\n",
    "\n",
    "Window 1: CTAGA (AT count = 3)\n",
    "\n",
    "Window 2: TAGAA (AT count = 3)\n",
    "\n",
    "Window 3: AGAAT (AT count = 4)\n",
    "\n",
    "Window 4: GAATC (AT count = 3)\n",
    "\n",
    "Window 5: AATCG (AT count = 3)\n",
    "\n",
    "Window 6: ATCGC (AT count = 2)\n",
    "\n",
    "So the most AT-rich window so far is window 3. "
   ]
  },
  {
   "cell_type": "code",
   "execution_count": null,
   "metadata": {
    "collapsed": false,
    "slideshow": {
     "slide_type": "subslide"
    }
   },
   "outputs": [],
   "source": [
    "# Suppose we want to find AT rich windows of some fixed size in a DNA sequence.\n",
    "nucleotides = ['A', 'C', 'T', 'G']\n",
    "ss = np.random.choice(nucleotides, replace=True, size=100)\n",
    "\n",
    "# A reasonable first step is to convert 'A' and 'T' to 1 and 'C' and 'G' to 0\n",
    "ss_vals = np.zeros(len(ss))\n",
    "ss_vals[(ss == 'A') | (ss == 'T')] = 1\n",
    "\n",
    "# We can now find sums over shifting windows of the desired size\n",
    "size = 10\n",
    "ma = np.convolve(ss_vals, np.ones(size)) # convolve can be used to find moving sums fast\n",
    "at_rich_pos = np.nonzero(ma==ma.max())[0]\n",
    "for i in at_rich_pos:\n",
    "    start, stop = 1+i-size, 1+i\n",
    "    print '%s has %d A or T nucleotides in a %d window' % (''.join(ss[start:stop]), ma[i], size)"
   ]
  },
  {
   "cell_type": "code",
   "execution_count": null,
   "metadata": {
    "collapsed": false
   },
   "outputs": [],
   "source": [
    "# If we didn't know about the convolve function, we could roll our own moving sums\n",
    "def slow_ms(xs, size):\n",
    "    nx = len(xs)\n",
    "    ms = np.zeros(nx+size-1)\n",
    "    for i in range(1, size):\n",
    "        ms[i-1] = np.sum(xs[:i])\n",
    "    for i in range(size, nx+size):\n",
    "        ms[i-1] = np.sum(xs[(i-size):i])\n",
    "    return ms"
   ]
  },
  {
   "cell_type": "code",
   "execution_count": null,
   "metadata": {
    "collapsed": false
   },
   "outputs": [],
   "source": [
    "# Using vectorizzation speeds it up significantly\n",
    "# The vectorization is a little subtle here:\n",
    "# We use indexing tricks to \"stack\" 10 (shifted) vectors and sum them all \n",
    "\n",
    "# A simpler example hepls clarify what is going on here\n",
    "# Suppose we want to find the moving sum for [1,2,3,4,5] for a 3-window\n",
    "# We first create a zero vector of length 5+3-1 = 7\n",
    "# ms = [0,0,0,0,0,0,0]\n",
    "# Then we use indexing as in the first example to bascially carry out the following sums\n",
    "# [0,0,0,0,0,0,0] + [1,2,3,4,5,0,0] + [0,1,2,3,4,5,0] + [0,0,1,2,3,4,5]\n",
    "# Because numpy indexing does not create copies, this is very efficient \n",
    "# For exmple, if we have a string of legnth 10000 and a window of lenght 10,\n",
    "# the slow version does 1000 sum operations (each vector is of length 10)\n",
    "# the vectorized version does 10 sum operations (each vector is of length 10000)\n",
    "\n",
    "def vectorized_ms(xs, size):\n",
    "    nx = len(xs)\n",
    "    ms = np.zeros(nx+size-1)\n",
    "    for i in range(size):\n",
    "        ms[i:i+nx] += xs\n",
    "    return ms"
   ]
  },
  {
   "cell_type": "code",
   "execution_count": null,
   "metadata": {
    "collapsed": false
   },
   "outputs": [],
   "source": [
    "# Finally, we compare the time taken by all 3 versions\n",
    "    \n",
    "print \"\\nTime for convolve\"\n",
    "%timeit ms1 = np.convolve(ss_vals, np.ones(size))\n",
    "print \"\\nTime for loop version\"\n",
    "%timeit ms2 = slow_ms(ss_vals, size)\n",
    "print \"\\nTime for vectorized version\"\n",
    "%timeit ms3 = vectorized_ms(ss_vals, size)"
   ]
  },
  {
   "cell_type": "markdown",
   "metadata": {
    "slideshow": {
     "slide_type": "slide"
    }
   },
   "source": [
    "### Example - Using vectorizaiton to speed up 1D cellular automata simulations. \n",
    "\n",
    "In this example, we will simulate a 1D cellular automata. In particular, we will simulate the 18 rules shown in the first figure at http://mathworld.wolfram.com/ElementaryCellularAutomaton.html. For the 1D CA, we need to calculate the next state of a cell given its own state and the states of its left and right neighbors. The rule to update is given by the 8-bit binary representation of an integer. For exampe, rule 30 is '00011110', where each binary digit represnts the next state for the state matching that bit position, where position 0 = 0, position 1 =  1, position 2 = 1, and so on. The binary representation of 0 in 3 bits is 000 so that means that if my current state is 0 and both my neighbors are also 0, my next state will be 0. Position 4 in 3 bits is 100 and position 4 has value 1, so that means that if my current state is 0, my left neighbor is 0 and my right neighbor is 1, then my next state will be 1.\n",
    "\n",
    "One way to code this is to use a loop to check 3 consecutive cells, then move to the next cell and repeat, but this is very slow if the grid is large. Instead, we will use numpy indexing to shift rows one position to the left and one position to the right. If we now look across these 3 rows (one unshirted and 2 shifted), each column of 3 provides the currrent state of 3 neighboring cells. Now the next trick is to add these up as if the values came from the $2^2$ (left), $2^1$ (unshifted) and $2^0$ positions. Finally, we take these values (which will range from 0 to 7) and use the given rule to map to a new state vector using logical indexing. Using this vectorizaiation, we only ever add 3 (possibly very long) vectors at each step. Going over the code below carefully should make this explanaiton clearer."
   ]
  },
  {
   "cell_type": "code",
   "execution_count": null,
   "metadata": {
    "collapsed": false,
    "slideshow": {
     "slide_type": "subslide"
    }
   },
   "outputs": [],
   "source": [
    "def make_rule(n):\n",
    "    # convert number from 0 to 255 into list of positive neighbor states\n",
    "    bin_str = np.binary_repr(n)[::-1]\n",
    "    return np.nonzero([int(i) for i in bin_str])[0]\n",
    "\n",
    "# See description of rule 30 above. Cells in state 1 (001), 2 (010), 3 (011) and 4 (100) will be ON in next iteration.\n",
    "print \"Rule 30 viable states\", make_rule(30)\n",
    "\n",
    "# Compare with rule 54, where cells in state 1 (001), 2 (010), 4 (100) and 5 (101) will be ON in next iteration.\n",
    "print \"Rule 54 viable states\", make_rule(54)"
   ]
  },
  {
   "cell_type": "code",
   "execution_count": null,
   "metadata": {
    "collapsed": false,
    "slideshow": {
     "slide_type": "subslide"
    }
   },
   "outputs": [],
   "source": [
    "def ca_step(row, on_states):\n",
    "    # update state of 1D CA using vectorized operations\n",
    "    row[row != 0] = 1\n",
    "    center = 2*row[1:-1] # state of self (second of 3 bits, so *2)\n",
    "    right = 1*row[2:] # state of right neighbor (first of 3 bits, so *1)\n",
    "    left = 4*row[:-2] # state of left neighbor (third of 3 bits so *4)\n",
    "    # find current state, where state is a 3-bit vector expressed as an interger\n",
    "    row[1:-1] = center + left + right \n",
    "    tmp = np.zeros_like(row)\n",
    "    idx = np.zeros(len(row), 'bool')\n",
    "    for state in on_states:\n",
    "        idx |= row == state\n",
    "    tmp[idx] = 1\n",
    "    return tmp"
   ]
  },
  {
   "cell_type": "code",
   "execution_count": null,
   "metadata": {
    "collapsed": false,
    "slideshow": {
     "slide_type": "subslide"
    }
   },
   "outputs": [],
   "source": [
    "def ca(row, nsteps, rule):\n",
    "    # return a matrix where each row is the state of the 1D CA at one time step\n",
    "    on_states = make_rule(rule)\n",
    "    grid = np.zeros((nsteps+1, len(row)))\n",
    "    _row = row.copy()    \n",
    "    grid[0,:] = _row\n",
    "    for i in range(nsteps):\n",
    "        _row = ca_step(_row, on_states)\n",
    "        grid[i+1,:] = _row\n",
    "    return grid"
   ]
  },
  {
   "cell_type": "code",
   "execution_count": null,
   "metadata": {
    "collapsed": false,
    "slideshow": {
     "slide_type": "slide"
    }
   },
   "outputs": [],
   "source": [
    "# initalize with single ON state in the center of the !D CA\n",
    "row = np.zeros(100, dtype='int')\n",
    "mid = len(row)/2\n",
    "row[mid] = 1\n",
    "\n",
    "# replicate plots from http://mathworld.wolfram.com/ElementaryCellularAutomaton.html\n",
    "rules = [30, 54, 60, 62, 90, 94, 102, 110, 122, 126, 150, 158, 182, 188, 190, 220, 222, 250]\n",
    "nrows = len(rules)/3\n",
    "ncols = 3\n",
    "figure(figsize=(nrows*2, ncols*3))\n",
    "bone() # use black and white colormap\n",
    "for i, rule in enumerate(rules):\n",
    "    subplot(nrows, ncols, i+1)\n",
    "    grid = ca(row, nsteps=mid-1, rule=rule)\n",
    "    imshow(grid, interpolation='none', aspect='equal')\n",
    "    xticks([])\n",
    "    yticks([])\n",
    "    title('rule %d' % rule)\n",
    "tight_layout()"
   ]
  }
 ],
 "metadata": {
  "kernelspec": {
   "display_name": "Python 2",
   "language": "python",
   "name": "python2"
  },
  "language_info": {
   "codemirror_mode": {
    "name": "ipython",
    "version": 2
   },
   "file_extension": ".py",
   "mimetype": "text/x-python",
   "name": "python",
   "nbconvert_exporter": "python",
   "pygments_lexer": "ipython2",
   "version": "2.7.9"
  }
 },
 "nbformat": 4,
 "nbformat_minor": 0
}
