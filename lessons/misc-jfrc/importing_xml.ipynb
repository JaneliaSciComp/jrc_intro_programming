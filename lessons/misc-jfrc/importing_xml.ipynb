{
 "cells": [
  {
   "cell_type": "code",
   "execution_count": null,
   "metadata": {
    "collapsed": false
   },
   "outputs": [],
   "source": []
  },
  {
   "cell_type": "code",
   "execution_count": null,
   "metadata": {
    "collapsed": false
   },
   "outputs": [],
   "source": []
  },
  {
   "cell_type": "code",
   "execution_count": 1,
   "metadata": {
    "collapsed": false
   },
   "outputs": [
    {
     "name": "stdout",
     "output_type": "stream",
     "text": [
      "<Element 'experiment' at 0x393a668>\n"
     ]
    }
   ],
   "source": [
    "import xml.etree.ElementTree as ET\n",
    "tree = ET.parse('assay_metadata.xml')\n",
    "root = tree.getroot()\n",
    "print root"
   ]
  },
  {
   "cell_type": "code",
   "execution_count": 5,
   "metadata": {
    "collapsed": false
   },
   "outputs": [
    {
     "data": {
      "text/plain": [
       "'experiment'"
      ]
     },
     "execution_count": 5,
     "metadata": {},
     "output_type": "execute_result"
    }
   ],
   "source": [
    "root.tag"
   ]
  },
  {
   "cell_type": "code",
   "execution_count": 4,
   "metadata": {
    "collapsed": false
   },
   "outputs": [
    {
     "data": {
      "text/plain": [
       "{'archive_behavior': 'default',\n",
       " 'archive_path': '',\n",
       " 'assay': 'fly_olympiad_box',\n",
       " 'exp_datetime': '20140507T124629',\n",
       " 'experimenter': 'rowellw',\n",
       " 'flag_aborted': '0',\n",
       " 'flag_legacy': '0',\n",
       " 'flag_redo': '0',\n",
       " 'flag_review': '0',\n",
       " 'protocol': 'EP_Box_v004p1.xlsx',\n",
       " 'requesting_lab': '',\n",
       " 'screen_reason': 'standard',\n",
       " 'screen_type': 'primary',\n",
       " 'transfer_behavior': 'move',\n",
       " 'transfer_path': '/groups/sciserv/centralcomplex/box_data'}"
      ]
     },
     "execution_count": 4,
     "metadata": {},
     "output_type": "execute_result"
    }
   ],
   "source": [
    "root.attrib"
   ]
  },
  {
   "cell_type": "code",
   "execution_count": 6,
   "metadata": {
    "collapsed": false
   },
   "outputs": [
    {
     "name": "stdout",
     "output_type": "stream",
     "text": [
      "apparatus {'box': 'Apollo', 'computer': 'Olympiad-Apollo', 'apparatus_id': '1407879', 'room': '2C.310.2'}\n",
      "session {'id': '1'}\n",
      "session {'id': '2'}\n",
      "session {'id': '3'}\n",
      "session {'id': '4'}\n",
      "session {'id': '5'}\n",
      "session {'id': '6'}\n",
      "environment {'temperature': '32.4', 'humidity': '30.4'}\n",
      "notes_behavioral {}\n",
      "notes_technical {}\n",
      "notes_keyword {}\n"
     ]
    }
   ],
   "source": [
    "for child in root:\n",
    "    print child.tag, child.attrib"
   ]
  },
  {
   "cell_type": "code",
   "execution_count": 20,
   "metadata": {
    "collapsed": false
   },
   "outputs": [
    {
     "data": {
      "text/plain": [
       "{'apparatus_id': '1407879',\n",
       " 'box': 'Apollo',\n",
       " 'computer': 'Olympiad-Apollo',\n",
       " 'room': '2C.310.2'}"
      ]
     },
     "execution_count": 20,
     "metadata": {},
     "output_type": "execute_result"
    }
   ],
   "source": [
    "root.find('apparatus').attrib"
   ]
  },
  {
   "cell_type": "code",
   "execution_count": 18,
   "metadata": {
    "collapsed": false
   },
   "outputs": [
    {
     "data": {
      "text/plain": [
       "'Apollo'"
      ]
     },
     "execution_count": 18,
     "metadata": {},
     "output_type": "execute_result"
    }
   ],
   "source": [
    "root.find('apparatus').attrib['box']"
   ]
  },
  {
   "cell_type": "code",
   "execution_count": 27,
   "metadata": {
    "collapsed": false
   },
   "outputs": [
    {
     "data": {
      "text/plain": [
       "6"
      ]
     },
     "execution_count": 27,
     "metadata": {},
     "output_type": "execute_result"
    }
   ],
   "source": [
    "len(root.findall('session'))"
   ]
  },
  {
   "cell_type": "code",
   "execution_count": 30,
   "metadata": {
    "collapsed": false
   },
   "outputs": [
    {
     "name": "stdout",
     "output_type": "stream",
     "text": [
      "session\n",
      "{'id': '1'}\n"
     ]
    }
   ],
   "source": [
    "print root.findall('session')[0].tag\n",
    "print root.findall('session')[0].attrib"
   ]
  },
  {
   "cell_type": "code",
   "execution_count": 36,
   "metadata": {
    "collapsed": false
   },
   "outputs": [
    {
     "data": {
      "text/plain": [
       "{'cross_barcode': '85744',\n",
       " 'cross_date': '20140421T000000',\n",
       " 'effector': 'CTRL_DL_1500090_0028',\n",
       " 'flip_date': '20140421T000000',\n",
       " 'flip_used': '0',\n",
       " 'gender': 'm',\n",
       " 'line': 'FCF_pBDPGAL4U_1500437',\n",
       " 'num_flies': '15',\n",
       " 'num_flies_dead': '0',\n",
       " 'robot_stock_copy': 'unknown',\n",
       " 'wish_list': '171'}"
      ]
     },
     "execution_count": 36,
     "metadata": {},
     "output_type": "execute_result"
    }
   ],
   "source": [
    "root.findall('session')[0][0].tag\n",
    "root.findall('session')[0][0].attrib"
   ]
  },
  {
   "cell_type": "code",
   "execution_count": null,
   "metadata": {
    "collapsed": false
   },
   "outputs": [],
   "source": []
  },
  {
   "cell_type": "code",
   "execution_count": null,
   "metadata": {
    "collapsed": false
   },
   "outputs": [],
   "source": []
  },
  {
   "cell_type": "code",
   "execution_count": null,
   "metadata": {
    "collapsed": false
   },
   "outputs": [],
   "source": []
  }
 ],
 "metadata": {
  "kernelspec": {
   "display_name": "Python 2",
   "language": "python",
   "name": "python2"
  },
  "language_info": {
   "codemirror_mode": {
    "name": "ipython",
    "version": 2
   },
   "file_extension": ".py",
   "mimetype": "text/x-python",
   "name": "python",
   "nbconvert_exporter": "python",
   "pygments_lexer": "ipython2",
   "version": "2.7.9"
  }
 },
 "nbformat": 4,
 "nbformat_minor": 0
}
