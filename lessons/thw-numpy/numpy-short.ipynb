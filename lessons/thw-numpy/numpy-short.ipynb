{
 "metadata": {
  "name": "",
  "signature": "sha256:30f4eda740358d952b43bd15d0c720cc9c8050da602eb1a56cbe230fd897eda9"
 },
 "nbformat": 3,
 "nbformat_minor": 0,
 "worksheets": [
  {
   "cells": [
    {
     "cell_type": "markdown",
     "metadata": {},
     "source": [
      "Adapted from Scientific Python: Part 1 (lessons/thw-numpy/numpy.ipynb)"
     ]
    },
    {
     "cell_type": "markdown",
     "metadata": {},
     "source": [
      "## Introducing NumPy\n",
      "\n",
      "NumPy is a Python package implementing efficient collections of specific types of data (generally numerical), similar to the standard array\n",
      "module (but with many more features). NumPy arrays differ from lists and tuples in that the data is contiguous in memory. A Python **list**, \n",
      "```[0, 1, 2]```, in contrast, is actually an array of pointers to Python objects representing each number. This allows NumPy arrays to be\n",
      "considerably faster for numerical operations than Python lists/tuples."
     ]
    },
    {
     "cell_type": "code",
     "collapsed": false,
     "input": [
      "# by convention, we typically import numpy as the alias np\n",
      "import numpy as np"
     ],
     "language": "python",
     "metadata": {},
     "outputs": []
    },
    {
     "cell_type": "code",
     "collapsed": false,
     "input": [
      "#np?\n",
      "#np."
     ],
     "language": "python",
     "metadata": {},
     "outputs": []
    },
    {
     "cell_type": "code",
     "collapsed": false,
     "input": [
      "print np.sqrt(4)\n",
      "print np.pi         # a constant\n",
      "print np.sin(np.pi)"
     ],
     "language": "python",
     "metadata": {},
     "outputs": []
    },
    {
     "cell_type": "markdown",
     "metadata": {},
     "source": [
      "\"That's great,\" you're thinking.  \"`math` already has all of those functions and constants.\"  But that's not the real beauty of NumPy."
     ]
    },
    {
     "cell_type": "markdown",
     "metadata": {},
     "source": [
      "### Numpy arrays (ndarrays)\n",
      "\n",
      "Creating a NumPy array is as simple as passing a sequence to numpy.array:\n",
      "    \n",
      "Numpy arrays are collections of things, all of which must be the same type, that work\n",
      "similarly to lists (as we've described them so far). The most important are:\n",
      "\n",
      "1. You can easily perform elementwise operations (and matrix algebra) on arrays\n",
      "1. Arrays can be n-dimensional\n",
      "1. Arrays must be pre-allocated (ie, there is no equivalent to append)\n",
      "\n",
      "Arrays can be created from existing collections such as lists, or instantiated \"from scratch\" in a \n",
      "few useful ways."
     ]
    },
    {
     "cell_type": "code",
     "collapsed": false,
     "input": [
      "arr1 = np.array([1, 2.3, 4])   \n",
      "print type(arr1)\n",
      "print arr1.dtype "
     ],
     "language": "python",
     "metadata": {},
     "outputs": []
    },
    {
     "cell_type": "markdown",
     "metadata": {},
     "source": [
      "There are many other ways to create NumPy arrays, such as `np.identity`, `np.zeros`, `np.zeros_like`."
     ]
    },
    {
     "cell_type": "code",
     "collapsed": false,
     "input": [
      "print '2 rows, 3 columns of zeros:\\n', np.zeros((2,3))\n",
      "print '4x4 identity matrix:\\n', np.identity(4)\n",
      "a = np.array([x ** 2 for x in range(5)])\n",
      "b = np.zeros_like(a)\n",
      "\n",
      "print 'a:\\n', a\n",
      "print 'b:\\n', b\n"
     ],
     "language": "python",
     "metadata": {},
     "outputs": []
    },
    {
     "cell_type": "markdown",
     "metadata": {},
     "source": [
      "These arrays have attributes, like `.ndim` and `.shape` that tell us about the number and length of the dimensions."
     ]
    },
    {
     "cell_type": "code",
     "collapsed": false,
     "input": [
      "c = np.ones((15, 30))\n",
      "print 'number of dimensions of c:', c.ndim\n",
      "print 'length of c in each dimension:', c.shape"
     ],
     "language": "python",
     "metadata": {},
     "outputs": []
    },
    {
     "cell_type": "markdown",
     "metadata": {},
     "source": [
      "NumPy has its own `range()` function, `np.arange()`, that is more efficient for building larger arrays.  It functions in much the same way as `range()`.\n",
      "NumPy also has `linspace()` and `logspace()`, that can generate equally spaced samples between a start-point and an end-point.  Find out more with `np.linspace?`."
     ]
    },
    {
     "cell_type": "markdown",
     "metadata": {},
     "source": [
      "## Arithmetic with ndarrays\n",
      "\n",
      "Standard arithmetic operators perform element-wise operations on arrays of the same size."
     ]
    },
    {
     "cell_type": "code",
     "collapsed": false,
     "input": [
      "A = np.arange(5)\n",
      "B = np.arange(5, 10)\n",
      "\n",
      "print 'A', A\n",
      "print 'B', B\n",
      "\n",
      "print 'A+B', A+B\n",
      "print 'B-A', B-A\n",
      "print 'A*B', A*B"
     ],
     "language": "python",
     "metadata": {},
     "outputs": []
    },
    {
     "cell_type": "markdown",
     "metadata": {},
     "source": [
      "In addition, if one of the arguments is a scalar, that value will be applied to all the elements of the array."
     ]
    },
    {
     "cell_type": "code",
     "collapsed": false,
     "input": [
      "A = np.arange(5)\n",
      "print 'A', A\n",
      "print 'A+10', A+10\n",
      "print '2 * A', 2*A \n",
      "print 'A ** 2', A**2 "
     ],
     "language": "python",
     "metadata": {},
     "outputs": []
    },
    {
     "cell_type": "markdown",
     "metadata": {},
     "source": [
      "### Linear algebra with arrays\n",
      "\n",
      "You can use arrays as vectors and matrices in linear algebra operations\n",
      "\n",
      "Specifically, you can perform matrix/vector multiplication between arrays, by using the .dot method, or the np.dot function:"
     ]
    },
    {
     "cell_type": "code",
     "collapsed": false,
     "input": [
      "print A.dot(B)\n",
      "print np.dot(A, B)"
     ],
     "language": "python",
     "metadata": {},
     "outputs": []
    },
    {
     "cell_type": "markdown",
     "metadata": {},
     "source": [
      "If you are planning on doing serious linear algebra, you might be better off using the np.matrix object instead of np.array."
     ]
    },
    {
     "cell_type": "markdown",
     "metadata": {},
     "source": [
      "## Numpy 'gotchas'\n",
      "\n",
      "### Multiplication and Addition\n",
      "\n",
      "As you may have noticed above, since NumPy arrays are modeled more closely after vectors and matrices, multiplying by a scalar will multiply each element of the array, whereas multiplying a list by a scalar will repeat that list N times."
     ]
    },
    {
     "cell_type": "code",
     "collapsed": false,
     "input": [
      "A = np.arange(5)*2\n",
      "print(A) \n",
      "B = range(5)*2\n",
      "print(B)"
     ],
     "language": "python",
     "metadata": {},
     "outputs": []
    },
    {
     "cell_type": "markdown",
     "metadata": {},
     "source": [
      "Similarly, when adding two numpy arrays together, we get the vector sum back, whereas when adding two lists together, we get the concatenation back."
     ]
    },
    {
     "cell_type": "code",
     "collapsed": false,
     "input": [
      "A = np.arange(5) + np.arange(5)\n",
      "print(A)\n",
      "B =range(5) + range(5)\n",
      "print(B)"
     ],
     "language": "python",
     "metadata": {},
     "outputs": []
    },
    {
     "cell_type": "markdown",
     "metadata": {},
     "source": [
      "### Views vs. Copies\n",
      "\n",
      "In order to be as efficient as possible, numpy uses \"views\" instead of copies wherever possible. That is, numpy arrays derived from another base array generally refer to the ''exact same data'' as the base array. The consequence of this is that modification of these derived arrays will also modify the base array. The result of an array indexed by an array of indices is a ''copy'', but an array indexed by an array of booleans is a ''view''. \n",
      "\n",
      "Specifically, slices of arrays are always views, unlike slices of lists or tuples, which are always copies."
     ]
    },
    {
     "cell_type": "code",
     "collapsed": false,
     "input": [
      "A = np.arange(5)\n",
      "B = A[0:1]\n",
      "B[0] = 42\n",
      "print(A)\n",
      "\n",
      "A = range(5)\n",
      "B = A[0:1]\n",
      "B[0] = 42\n",
      "print(A)"
     ],
     "language": "python",
     "metadata": {},
     "outputs": []
    },
    {
     "cell_type": "code",
     "collapsed": false,
     "input": [],
     "language": "python",
     "metadata": {},
     "outputs": []
    },
    {
     "cell_type": "code",
     "collapsed": false,
     "input": [],
     "language": "python",
     "metadata": {},
     "outputs": []
    }
   ],
   "metadata": {}
  }
 ]
}